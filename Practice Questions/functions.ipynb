{
 "cells": [
  {
   "cell_type": "code",
   "execution_count": 5,
   "metadata": {},
   "outputs": [
    {
     "name": "stdout",
     "output_type": "stream",
     "text": [
      "Number not present\n"
     ]
    }
   ],
   "source": [
    "# Define a function that accepts roll number and returns whether the student is present or absent.\n",
    "\n",
    "def check(lst,roll):\n",
    "    if roll in lst:\n",
    "        print(\"Number is present\")\n",
    "    else:\n",
    "        print(\"Number not present\")\n",
    "##\n",
    "\n",
    "\n",
    "roll_lst = [1,2,3,4,5,6,7,8,9]\n",
    "r_no = int(input(\"Enter Roll Number : \"))\n",
    "check(roll_lst,r_no)"
   ]
  },
  {
   "cell_type": "code",
   "execution_count": null,
   "metadata": {},
   "outputs": [],
   "source": []
  },
  {
   "cell_type": "code",
   "execution_count": null,
   "metadata": {},
   "outputs": [],
   "source": []
  }
 ],
 "metadata": {
  "kernelspec": {
   "display_name": "Python 3",
   "language": "python",
   "name": "python3"
  },
  "language_info": {
   "codemirror_mode": {
    "name": "ipython",
    "version": 3
   },
   "file_extension": ".py",
   "mimetype": "text/x-python",
   "name": "python",
   "nbconvert_exporter": "python",
   "pygments_lexer": "ipython3",
   "version": "3.12.0"
  }
 },
 "nbformat": 4,
 "nbformat_minor": 2
}
