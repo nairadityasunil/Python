{
 "cells": [
  {
   "cell_type": "markdown",
   "metadata": {},
   "source": [
    "<h1>String Practical"
   ]
  },
  {
   "cell_type": "code",
   "execution_count": null,
   "metadata": {},
   "outputs": [],
   "source": [
    "s1= \"hello\"\n",
    "s2= \"world\"\n",
    "\n",
    "s3 = s1 + \" \"+ s2 #String concatenation\n",
    "print(s3)"
   ]
  },
  {
   "cell_type": "code",
   "execution_count": null,
   "metadata": {},
   "outputs": [],
   "source": [
    "# Palindrome of a string\n",
    "\n",
    "str = \"naman\"\n",
    "ln = 0\n",
    "\n",
    "# Taking length of the string\n",
    "for ch in str:\n",
    "    ln+=1\n",
    "    \n",
    "print(ln)\n",
    "print(len(str))\n",
    "i=0\n",
    "n=0\n",
    "flag = 0\n",
    "while n<ln:\n",
    "    if(str[n]!=str[ln-n-1]):\n",
    "        flag +=1\n",
    "        break\n",
    "    n+=1\n",
    "    \n",
    "if(flag==0):\n",
    "    print(\"Palindrome String\")\n",
    "else:\n",
    "    print(\"Not Palindrome String\")\n",
    "        "
   ]
  },
  {
   "cell_type": "code",
   "execution_count": null,
   "metadata": {},
   "outputs": [],
   "source": [
    "# Right angled star pattern\n",
    "\n",
    "n=5\n",
    "for i in range(n):\n",
    "    for j in range(i+1):\n",
    "        print('*',end=\"\")\n",
    "    print(\"\")"
   ]
  },
  {
   "cell_type": "code",
   "execution_count": null,
   "metadata": {},
   "outputs": [],
   "source": [
    "# Characters of string that are at even index\n",
    "\n",
    "str = 'hello'\n",
    "n = 0\n",
    "for i in range (len(str)):\n",
    "    if i%2==0:\n",
    "        print(\"Index -> \",i,\" Value->\",str[i])"
   ]
  },
  {
   "cell_type": "code",
   "execution_count": null,
   "metadata": {},
   "outputs": [],
   "source": [
    "# Pyramid of abc\n",
    "n = 5\n",
    "ch = 65  # return character equivalent from ascii numbers\n",
    "# ord() return ascii value of the inputed character\n",
    "for i in range(n):\n",
    "    a=0\n",
    "    for j in range(i+1):\n",
    "        print(chr(ch+a),end=\"\")\n",
    "        a+=1\n",
    "    print(\"\")"
   ]
  },
  {
   "cell_type": "code",
   "execution_count": 41,
   "metadata": {},
   "outputs": [
    {
     "name": "stdout",
     "output_type": "stream",
     "text": [
      "hll\n"
     ]
    }
   ],
   "source": [
    "# Remove vowels from the string\n",
    "\n",
    "str = \"hello\"\n",
    "vowels = \"aeiou\"\n",
    "r =\"\"\n",
    "\n",
    "for i in range(len(str)):\n",
    "    if str[i] not in vowels:\n",
    "        r += str[i]\n",
    "\n",
    "print(r)    "
   ]
  },
  {
   "cell_type": "code",
   "execution_count": 36,
   "metadata": {},
   "outputs": [
    {
     "data": {
      "text/plain": [
       "{4, 5}"
      ]
     },
     "execution_count": 36,
     "metadata": {},
     "output_type": "execute_result"
    }
   ],
   "source": [
    "# Finding common elements in 2 list\n",
    "\n",
    "lst1 = [1,2,3,4,5]\n",
    "lst2 = [5,6,4,8,9]\n",
    "\n",
    "x = set(lst1)\n",
    "y = set(lst2)\n",
    "c = x.intersection(y)\n",
    "\n",
    "c"
   ]
  },
  {
   "cell_type": "code",
   "execution_count": null,
   "metadata": {},
   "outputs": [],
   "source": []
  },
  {
   "cell_type": "code",
   "execution_count": null,
   "metadata": {},
   "outputs": [
    {
     "name": "stdout",
     "output_type": "stream",
     "text": [
      "(2, 6, 120, 5040)\n"
     ]
    },
    {
     "data": {
      "text/plain": [
       "tuple"
      ]
     },
     "metadata": {},
     "output_type": "display_data"
    }
   ],
   "source": [
    "#Generate tuple that contain factorial of first n prime numbers input n from users\n",
    "n = int(input(\"Enter Value For N: \"))\n",
    "lst = []\n",
    "f_tup =[]\n",
    "i = 2\n",
    "\n",
    "# Checking for prime number for first n numbers \n",
    "while len(lst) < n:\n",
    "    for j in range(2, i):\n",
    "        if i % j == 0:\n",
    "            break\n",
    "    else:\n",
    "        lst.append(i)\n",
    "    i += 1\n",
    "    \n",
    "fact = 1\n",
    "for i in lst:\n",
    "    for j in range(1,i+1):\n",
    "        fact = fact*j\n",
    "        \n",
    "    f_tup.append(fact)\n",
    "    fact = 1\n",
    "\n",
    "f_tup = tuple(f_tup)  \n",
    "print(f_tup)\n",
    "type(f_tup)"
   ]
  },
  {
   "cell_type": "code",
   "execution_count": 39,
   "metadata": {},
   "outputs": [
    {
     "name": "stdout",
     "output_type": "stream",
     "text": [
      "0\n",
      "2\n",
      "4\n",
      "6\n",
      "8\n"
     ]
    }
   ],
   "source": [
    "# Elements at even index of the list\n",
    "lst =[0,1,2,3,4,5,6,7,8,9]\n",
    "\n",
    "for i in range(len(lst)):\n",
    "    if i % 2 ==0:\n",
    "        print(lst[i])"
   ]
  },
  {
   "cell_type": "code",
   "execution_count": null,
   "metadata": {},
   "outputs": [],
   "source": []
  }
 ],
 "metadata": {
  "kernelspec": {
   "display_name": "Python 3",
   "language": "python",
   "name": "python3"
  },
  "language_info": {
   "codemirror_mode": {
    "name": "ipython",
    "version": 3
   },
   "file_extension": ".py",
   "mimetype": "text/x-python",
   "name": "python",
   "nbconvert_exporter": "python",
   "pygments_lexer": "ipython3",
   "version": "3.12.0"
  }
 },
 "nbformat": 4,
 "nbformat_minor": 2
}
