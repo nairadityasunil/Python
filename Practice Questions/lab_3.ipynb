{
 "cells": [
  {
   "cell_type": "markdown",
   "metadata": {},
   "source": [
    "<h1>Practical 3"
   ]
  },
  {
   "cell_type": "code",
   "execution_count": null,
   "metadata": {},
   "outputs": [],
   "source": [
    "# Converting elements of list to upper case\n",
    "lst =['hello','hi']\n",
    "n = 0\n",
    "for i in lst:\n",
    "    lst[n]=i.upper()\n",
    "    n +=1\n",
    "    \n",
    "lst"
   ]
  },
  {
   "cell_type": "code",
   "execution_count": null,
   "metadata": {},
   "outputs": [],
   "source": [
    "# Remove empty tuples from list\n",
    "lst =[1,2,'Abc',(),(1,2,3),(10),1,2,3,()]\n",
    "for i in lst:\n",
    "    if i==():\n",
    "        lst.remove(i)\n",
    "    \n",
    "lst"
   ]
  },
  {
   "cell_type": "code",
   "execution_count": null,
   "metadata": {},
   "outputs": [],
   "source": [
    "# Remove all unique elements from list\n",
    "lst = [1, 10, 1, 2, 3, 4]\n",
    "lst = [i for i in lst if lst.count(i) > 1]\n",
    "lst"
   ]
  },
  {
   "cell_type": "code",
   "execution_count": null,
   "metadata": {},
   "outputs": [],
   "source": [
    "# Remove duplicate list items from list\n",
    "lst = [1,1,2,3,4]\n",
    "lst = [i for i in lst if lst.count(i)==1]\n",
    "lst"
   ]
  },
  {
   "cell_type": "code",
   "execution_count": null,
   "metadata": {},
   "outputs": [],
   "source": [
    "# Store reverse of each list element in another list at same position\n",
    "\n",
    "lst = [13,25,32,'hi']\n",
    "n=0\n",
    "for i in range(len(lst)):\n",
    "    if type(lst[i])==int:   \n",
    "        rev = 0\n",
    "        print(\"hi\")\n",
    "        n = lst[i]\n",
    "        while (n>0):\n",
    "            rem = n%10\n",
    "            rev = rev*10 + rem\n",
    "            n = n // 10\n",
    "        print(rev)\n",
    "        lst[i]=rev\n",
    "        \n",
    "    elif type(lst[i]==str):\n",
    "        lst[i] = lst[i][::-1]\n",
    "print(lst)     "
   ]
  },
  {
   "cell_type": "code",
   "execution_count": null,
   "metadata": {},
   "outputs": [],
   "source": [
    "# Shift all the negative elements from the list to the end of the list\n",
    "lst = [-1, 10, 2, -4, 15, 16]\n",
    "neg = []\n",
    "\n",
    "for i in lst:\n",
    "    if i < 0:\n",
    "        neg.append(i)\n",
    "        lst.remove(i)\n",
    "\n",
    "lst.extend(neg)\n",
    "\n",
    "print(lst)\n",
    "\n"
   ]
  },
  {
   "cell_type": "code",
   "execution_count": null,
   "metadata": {},
   "outputs": [],
   "source": [
    "# Take a sentence as input from user. Break it into words, store words in a list. Sort list elements on basis of length of the elements.\n",
    "\n",
    "str = input(\"Enter String : \")\n",
    "lst = str.split(' ')\n",
    "lst = sorted(lst,key=len)\n",
    "lst\n"
   ]
  },
  {
   "cell_type": "code",
   "execution_count": null,
   "metadata": {},
   "outputs": [],
   "source": []
  }
 ],
 "metadata": {
  "kernelspec": {
   "display_name": "Python 3",
   "language": "python",
   "name": "python3"
  },
  "language_info": {
   "codemirror_mode": {
    "name": "ipython",
    "version": 3
   },
   "file_extension": ".py",
   "mimetype": "text/x-python",
   "name": "python",
   "nbconvert_exporter": "python",
   "pygments_lexer": "ipython3",
   "version": "3.12.0"
  }
 },
 "nbformat": 4,
 "nbformat_minor": 2
}
