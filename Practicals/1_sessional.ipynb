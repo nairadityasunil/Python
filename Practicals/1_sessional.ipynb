{
 "cells": [
  {
   "cell_type": "markdown",
   "metadata": {},
   "source": [
    "Count The frequency of each vowel in the sentense"
   ]
  },
  {
   "cell_type": "code",
   "execution_count": null,
   "metadata": {},
   "outputs": [],
   "source": [
    "str = \"hi bro how are you i am fine here\"\n",
    "vowels = {\n",
    "    'a':0,\n",
    "    'e':0,\n",
    "    'i':0,\n",
    "    'o':0,\n",
    "    'u':0\n",
    "}\n",
    "\n",
    "for i in str:\n",
    "    if i in vowels:\n",
    "        vowels[i] = vowels[i] + 1\n",
    "\n",
    "print(vowels)"
   ]
  },
  {
   "cell_type": "markdown",
   "metadata": {},
   "source": [
    "Count frequency of every character in the string"
   ]
  },
  {
   "cell_type": "code",
   "execution_count": null,
   "metadata": {},
   "outputs": [],
   "source": [
    "str = \"hi bro how are you i am fine here\"\n",
    "chr = {}\n",
    "\n",
    "for i in str.lower():\n",
    "    chr[i] = chr.get(i,0)+1\n",
    "\n",
    "chr"
   ]
  },
  {
   "cell_type": "markdown",
   "metadata": {},
   "source": []
  }
 ],
 "metadata": {
  "kernelspec": {
   "display_name": "Python 3",
   "language": "python",
   "name": "python3"
  },
  "language_info": {
   "codemirror_mode": {
    "name": "ipython",
    "version": 3
   },
   "file_extension": ".py",
   "mimetype": "text/x-python",
   "name": "python",
   "nbconvert_exporter": "python",
   "pygments_lexer": "ipython3",
   "version": "3.12.0"
  }
 },
 "nbformat": 4,
 "nbformat_minor": 2
}
