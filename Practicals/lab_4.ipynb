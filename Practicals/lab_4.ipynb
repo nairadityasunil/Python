{
 "cells": [
  {
   "cell_type": "code",
   "execution_count": 5,
   "metadata": {},
   "outputs": [
    {
     "name": "stdout",
     "output_type": "stream",
     "text": [
      "Factorial of 5:  -9999\n"
     ]
    }
   ],
   "source": [
    "# Question 1\n",
    "def calcFactorial(num):\n",
    "    if(isinstance(num,int)):\n",
    "        fact = 1\n",
    "        i = 1\n",
    "        while(i<=num):\n",
    "            fact = fact*i\n",
    "            i += 1\n",
    "        return fact\n",
    "    else:\n",
    "        return -9999  \n",
    "##\n",
    "\n",
    "print(\"Factorial of 5: \",calcFactorial('a'))"
   ]
  },
  {
   "cell_type": "code",
   "execution_count": 11,
   "metadata": {},
   "outputs": [
    {
     "name": "stdout",
     "output_type": "stream",
     "text": [
      "False\n"
     ]
    }
   ],
   "source": [
    "# Question 2\n",
    "def checkPrime(num):\n",
    "    if not isinstance(num,int):\n",
    "        return \"BAD NUMBER ERROR\"\n",
    "    else:\n",
    "        if num ==1 or num==2:\n",
    "            return True\n",
    "        for i in range(2,num):\n",
    "            if num%i==0:\n",
    "                return False\n",
    "        else:\n",
    "            return True\n",
    "##\n",
    "\n",
    "print(checkPrime(6))                 \n",
    "        "
   ]
  },
  {
   "cell_type": "code",
   "execution_count": 14,
   "metadata": {},
   "outputs": [
    {
     "name": "stdout",
     "output_type": "stream",
     "text": [
      "[1, 2, 3, 5, 7, 11, 13, 17, 19, 23, 29, 31, 37, 41, 43, 47]\n"
     ]
    }
   ],
   "source": [
    "# Question 3\n",
    "def firstNprimeNumberes(num):\n",
    "    lst=[]\n",
    "    count=0\n",
    "    i=1\n",
    "    while count<=num:\n",
    "        if(checkPrime(i)):\n",
    "            lst.append(i)\n",
    "            count += 1\n",
    "        i += 1\n",
    "    \n",
    "    print(lst)\n",
    "##\n",
    "\n",
    "firstNprimeNumberes(15)"
   ]
  },
  {
   "cell_type": "code",
   "execution_count": 17,
   "metadata": {},
   "outputs": [
    {
     "name": "stdout",
     "output_type": "stream",
     "text": [
      "{'a': 2, 'e': 0, 'i': 3, 'o': 0, 'u': 1}\n"
     ]
    }
   ],
   "source": [
    "# Question 4\n",
    "def countVowelsFrequencies(str):\n",
    "    vowels = \"aeiou\"\n",
    "    v_dict = {\n",
    "        'a':0,\n",
    "        'e':0,\n",
    "        'i':0,\n",
    "        'o':0,\n",
    "        'u':0\n",
    "    }\n",
    "    \n",
    "    for i in str:\n",
    "        if i in vowels:\n",
    "            v_dict[i] += 1\n",
    "    \n",
    "    print(v_dict)\n",
    "##\n",
    "\n",
    "countVowelsFrequencies(\"Aditya Sunil Nair\")"
   ]
  },
  {
   "cell_type": "code",
   "execution_count": 18,
   "metadata": {},
   "outputs": [
    {
     "name": "stdout",
     "output_type": "stream",
     "text": [
      "[2, 6, 24, 120, 720, 5040, 40320, 362880]\n"
     ]
    }
   ],
   "source": [
    "# Question 5\n",
    "def factorials(lst):\n",
    "    fact_lst = []\n",
    "    for i in lst:\n",
    "        fact = calcFactorial(i)\n",
    "        fact_lst.append(fact)\n",
    "    \n",
    "    print(fact_lst)\n",
    "##\n",
    "\n",
    "factorials([2,3,4,5,6,7,8,9])"
   ]
  },
  {
   "cell_type": "code",
   "execution_count": 23,
   "metadata": {},
   "outputs": [
    {
     "name": "stdout",
     "output_type": "stream",
     "text": [
      "250.0\n",
      "6288.946267774416\n"
     ]
    }
   ],
   "source": [
    "# Question 6\n",
    "import math\n",
    "def calcSimpleInterest(p,r,n):\n",
    "    return (p*r*n)/100\n",
    "##\n",
    "\n",
    "def calcCompoundInterest(p,r,n):\n",
    "    total =  p*(pow((1+r/100),n))\n",
    "    return total - p\n",
    "##\n",
    "\n",
    "print(calcSimpleInterest(1000,5,5))\n",
    "print(calcCompoundInterest(10000, 10.25, 5))\n"
   ]
  },
  {
   "cell_type": "code",
   "execution_count": 32,
   "metadata": {},
   "outputs": [
    {
     "name": "stdout",
     "output_type": "stream",
     "text": [
      "HELLO WORLD\n"
     ]
    }
   ],
   "source": [
    "# Question 7 convert string to upper case without using inbuilt functions\n",
    "def toupper(str):\n",
    "    up_str =\"\"\n",
    "    for c in str:\n",
    "        if c == \" \":\n",
    "            up_str+=c\n",
    "        else:\n",
    "            if(ord(c)>=97):\n",
    "                up_str += chr(ord(c)-32)\n",
    "            else:\n",
    "                up_str += c\n",
    "    \n",
    "    return up_str\n",
    "##\n",
    "\n",
    "print(toupper(\"Hello world\"))\n"
   ]
  },
  {
   "cell_type": "code",
   "execution_count": 26,
   "metadata": {},
   "outputs": [
    {
     "name": "stdout",
     "output_type": "stream",
     "text": [
      "helloworld\n"
     ]
    }
   ],
   "source": [
    "# Question 8\n",
    "def removeWhiteSpace(str):\n",
    "    new_str =\"\"\n",
    "    for c in str:\n",
    "        if c != \" \":\n",
    "            new_str += c\n",
    "        \n",
    "    return new_str\n",
    "##\n",
    "\n",
    "print(removeWhiteSpace(\"hello world\"))"
   ]
  },
  {
   "cell_type": "code",
   "execution_count": 29,
   "metadata": {},
   "outputs": [
    {
     "name": "stdout",
     "output_type": "stream",
     "text": [
      "Rectangle\n"
     ]
    }
   ],
   "source": [
    "# Question 9\n",
    "def checkSquare(l1,l2,l3,l4):\n",
    "    if l1==l2 and l2==l3 and l3==l4:\n",
    "        print(\"Square\")\n",
    "    elif (l1==l3 and l2==l4) or (l1==l2 and l3==l4) or(l1==l4 and l2==l3):\n",
    "        print(\"Rectangle\")\n",
    "    else:\n",
    "        print(\"Not Square Or Rectangle\")\n",
    "##\n",
    "\n",
    "checkSquare(2,4,2,4)\n",
    "    "
   ]
  },
  {
   "cell_type": "code",
   "execution_count": 34,
   "metadata": {},
   "outputs": [
    {
     "name": "stdout",
     "output_type": "stream",
     "text": [
      "hello world\n"
     ]
    }
   ],
   "source": [
    "# Question 10\n",
    "\n",
    "# Convert string to lower case\n",
    "def tolower(str):\n",
    "    low_str =\"\"\n",
    "    for c in str:\n",
    "        if c == \" \":\n",
    "            low_str+=c\n",
    "        else:\n",
    "            if(ord(c)<97):\n",
    "                low_str += chr(ord(c)+32)\n",
    "            else:\n",
    "                low_str += c\n",
    "    \n",
    "    return low_str\n",
    "##\n",
    "print(tolower(\"Hello world\"))"
   ]
  },
  {
   "cell_type": "code",
   "execution_count": 37,
   "metadata": {},
   "outputs": [
    {
     "name": "stdout",
     "output_type": "stream",
     "text": [
      "HELLO WORLD\n"
     ]
    }
   ],
   "source": [
    "# Convert string to upper case\n",
    "def toupper(str):\n",
    "    up_str =\"\"\n",
    "    for c in str:\n",
    "        if c == \" \":\n",
    "            up_str+=c\n",
    "        else:\n",
    "            if(ord(c)>=97):\n",
    "                up_str += chr(ord(c)-32)\n",
    "            else:\n",
    "                up_str += c\n",
    "    \n",
    "    return up_str\n",
    "##\n",
    "print(toupper(\"Hello world\"))"
   ]
  },
  {
   "cell_type": "code",
   "execution_count": 43,
   "metadata": {},
   "outputs": [
    {
     "name": "stdout",
     "output_type": "stream",
     "text": [
      "Hello World \n"
     ]
    }
   ],
   "source": [
    "# Convert String to sentence case\n",
    "def toInitCap(str):\n",
    "    new_str =\"\"\n",
    "    splited = str.split() # by default will split at white cases\n",
    "    for i in range(len(splited)):\n",
    "        split_word = splited[i]\n",
    "        if i == 0:\n",
    "            new_str += toupper(split_word[0]) + split_word[1:]\n",
    "        else:\n",
    "                new_str += split_word\n",
    "            \n",
    "        new_str += \" \"\n",
    "    print(new_str)\n",
    "##\n",
    "\n",
    "toInitCap(\"hello World\")"
   ]
  },
  {
   "cell_type": "code",
   "execution_count": 45,
   "metadata": {},
   "outputs": [
    {
     "name": "stdout",
     "output_type": "stream",
     "text": [
      "11\n"
     ]
    }
   ],
   "source": [
    "# Length of the string\n",
    "def strlen(str):\n",
    "    length = 0\n",
    "    for i in str:\n",
    "        length += 1\n",
    "    \n",
    "    return length\n",
    "##\n",
    "print(strlen(\"hello world\"))"
   ]
  },
  {
   "cell_type": "code",
   "execution_count": 47,
   "metadata": {},
   "outputs": [
    {
     "name": "stdout",
     "output_type": "stream",
     "text": [
      "olleh\n"
     ]
    }
   ],
   "source": [
    "# Reverse a string\n",
    "def reverse(str):\n",
    "    return str[::-1]\n",
    "##\n",
    "\n",
    "print(reverse(\"hello\"))\n",
    "    "
   ]
  },
  {
   "cell_type": "code",
   "execution_count": null,
   "metadata": {},
   "outputs": [],
   "source": [
    "# Count frequencies of vowels\n",
    "def countVowelsFrequencies(str):\n",
    "    vowels = \"aeiou\"\n",
    "    v_dict = {\n",
    "        'a':0,\n",
    "        'e':0,\n",
    "        'i':0,\n",
    "        'o':0,\n",
    "        'u':0\n",
    "    }\n",
    "    \n",
    "    for i in str:\n",
    "        if i in vowels:\n",
    "            v_dict[i] += 1\n",
    "    \n",
    "    print(v_dict)\n",
    "##\n",
    "\n",
    "countVowelsFrequencies(\"Aditya Sunil Nair\")"
   ]
  },
  {
   "cell_type": "code",
   "execution_count": null,
   "metadata": {},
   "outputs": [],
   "source": [
    "# Get Substring\n",
    "def search(str,substr):\n",
    "    "
   ]
  }
 ],
 "metadata": {
  "kernelspec": {
   "display_name": "Python 3",
   "language": "python",
   "name": "python3"
  },
  "language_info": {
   "codemirror_mode": {
    "name": "ipython",
    "version": 3
   },
   "file_extension": ".py",
   "mimetype": "text/x-python",
   "name": "python",
   "nbconvert_exporter": "python",
   "pygments_lexer": "ipython3",
   "version": "3.12.0"
  }
 },
 "nbformat": 4,
 "nbformat_minor": 2
}
