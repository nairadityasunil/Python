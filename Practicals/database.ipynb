{
 "cells": [
  {
   "cell_type": "code",
   "execution_count": 10,
   "metadata": {},
   "outputs": [],
   "source": [
    "import mysql.connector\n",
    "from mysql.connector import Connect,Error\n",
    "\n",
    "try:\n",
    "    con = Connect(\n",
    "        host = \"localhost\",\n",
    "        port = 3307,\n",
    "        user = \"root\",\n",
    "        password=\"Appu_2003\",\n",
    "        database=\"dbstudent\",\n",
    "    )\n",
    "except Error as e:\n",
    "    print(e)\n"
   ]
  },
  {
   "cell_type": "code",
   "execution_count": 11,
   "metadata": {},
   "outputs": [],
   "source": [
    "cursor = con.cursor()"
   ]
  },
  {
   "cell_type": "code",
   "execution_count": 12,
   "metadata": {},
   "outputs": [
    {
     "name": "stdout",
     "output_type": "stream",
     "text": [
      "('dbstudent',)\n",
      "('information_schema',)\n",
      "('java',)\n",
      "('java_termwork',)\n",
      "('mysql',)\n",
      "('performance_schema',)\n",
      "('pydb',)\n",
      "('sem_1',)\n",
      "('student',)\n",
      "('sys',)\n",
      "('termwork_1',)\n"
     ]
    }
   ],
   "source": [
    "# Making cursor to execute queries\n",
    "cursor.execute(\"show databases\")\n",
    "# Iterating throught cursor for records\n",
    "for db in cursor:\n",
    "    print(db)\n"
   ]
  },
  {
   "cell_type": "code",
   "execution_count": null,
   "metadata": {},
   "outputs": [],
   "source": [
    "# Creating a new database\n",
    "try:\n",
    "    cursor.execute(\"Create Database dbStudent\")\n",
    "except Error as e:\n",
    "    print(e)\n"
   ]
  },
  {
   "cell_type": "code",
   "execution_count": null,
   "metadata": {},
   "outputs": [],
   "source": [
    "# Create table\n",
    "sql = \"\"\"CREATE TABLE tblstudent (\n",
    "    roll int,\n",
    "    name varchar(30),\n",
    "    birthdate date,\n",
    "    gender enum('M','F'),\n",
    "    cmarks int,\n",
    "    cpp int,\n",
    "    python int,\n",
    "    total int,\n",
    "    percentage float(6,2)\n",
    "    )\"\"\"\n",
    "    \n",
    "try:\n",
    "    cursor.execute(sql)\n",
    "except Error as e:\n",
    "    print(e)\n"
   ]
  },
  {
   "cell_type": "code",
   "execution_count": 9,
   "metadata": {},
   "outputs": [
    {
     "name": "stdout",
     "output_type": "stream",
     "text": [
      "Unread result found\n"
     ]
    }
   ],
   "source": [
    "try:\n",
    "    cursor.execute(\"DESC tblstudent\")\n",
    "    for db in cursor:\n",
    "        print(db)\n",
    "except Error as e:\n",
    "    print(e)"
   ]
  },
  {
   "cell_type": "code",
   "execution_count": null,
   "metadata": {},
   "outputs": [],
   "source": [
    "# Inserting records in the table\n",
    "sql=\"INSERT INTO tblstudent (roll,name,birthdate,gender,cmarks,cpp,python) values(%s,%s,%s,%s,%s,%s,%s)\"\n",
    "values=((1, 'Saraswati', '2001-07-15', 'F', 85, 70, 80),\n",
    "        (2, 'Shyam', '2001-09-15', 'M', 80, 75, 85),\n",
    "        (3, 'Sita', '2002-04-25', 'F', 70, 85, 90),\n",
    "        (4, 'Gita', '2001-11-10', 'F', 65, 70, 75),\n",
    "        (5, 'Hari', '2001-08-20', 'M', 90, 80, 95),\n",
    "        (6, 'Mohan', '2002-01-05', 'M', 85, 90, 80),\n",
    "        (7, 'Radha', '2001-12-30', 'F', 75, 85, 70),\n",
    "        (8, 'Krishna', '2002-06-10', 'M', 95, 85, 90),\n",
    "        (9, 'Laxmi', '2001-03-12', 'F', 70, 75, 85),\n",
    "        (10, 'Gopal', '2002-09-28', 'M', 80, 95, 75))\n",
    "\n",
    "try:\n",
    "    cursor.executemany(sql,values)\n",
    "    con.commit()\n",
    "except Error as e:\n",
    "    print(e)"
   ]
  },
  {
   "cell_type": "code",
   "execution_count": 13,
   "metadata": {},
   "outputs": [
    {
     "name": "stdout",
     "output_type": "stream",
     "text": [
      "(1, 'Saraswati', datetime.date(2001, 7, 15), 'F', 85, 70, 80, 235, 78.33)\n",
      "(2, 'Shyam', datetime.date(2001, 9, 15), 'M', 80, 75, 85, 240, 80.0)\n",
      "(3, 'Sita', datetime.date(2002, 4, 25), 'F', 70, 85, 90, 245, 81.67)\n",
      "(4, 'Gita', datetime.date(2001, 11, 10), 'F', 65, 70, 75, 210, 70.0)\n",
      "(5, 'Hari', datetime.date(2001, 8, 20), 'M', 90, 80, 95, 265, 88.33)\n",
      "(6, 'Mohan', datetime.date(2002, 1, 5), 'M', 85, 90, 80, 255, 85.0)\n",
      "(7, 'Radha', datetime.date(2001, 12, 30), 'F', 75, 85, 70, 230, 76.67)\n",
      "(8, 'Krishna', datetime.date(2002, 6, 10), 'M', 95, 85, 90, 270, 90.0)\n",
      "(9, 'Laxmi', datetime.date(2001, 3, 12), 'F', 70, 75, 85, 230, 76.67)\n",
      "(10, 'Gopal', datetime.date(2002, 9, 28), 'M', 80, 95, 75, 250, 83.33)\n"
     ]
    }
   ],
   "source": [
    "# Fetching records from table\n",
    "cursor.execute(\"Select * from tblstudent\")\n",
    "records = cursor.fetchall()\n",
    "for r in records:\n",
    "    print(r)"
   ]
  },
  {
   "cell_type": "code",
   "execution_count": null,
   "metadata": {},
   "outputs": [],
   "source": [
    "# Calling procedure\n",
    "cursor.callproc(\"c_marks\")\n",
    "# Loop for each row\n",
    "for r in cursor.stored_results():\n",
    "    # loop for columns in the row\n",
    "    for c in r:\n",
    "        print(c)"
   ]
  },
  {
   "cell_type": "code",
   "execution_count": null,
   "metadata": {},
   "outputs": [],
   "source": [
    "# Compute total,percentage,marks\n",
    "sql=\"select * from tblstudent\"\n",
    "cursor.execute(sql)\n",
    "records = cursor.fetchall()\n",
    "for r in records:\n",
    "    roll = r[0]\n",
    "    # Find total\n",
    "    total = r[4]+r[5]+r[6]\n",
    "    sql = \"update tblstudent set total = %s where roll = %s\"\n",
    "    val = (total,r[0])\n",
    "    cursor.execute(sql,val)\n",
    "con.commit()\n",
    "    \n",
    "    \n",
    "    # Find percentage\n",
    "for r in records:\n",
    "    roll = r[0]\n",
    "    total = r[4]+r[5]+r[6]\n",
    "    per = total/3\n",
    "    sql1 = \"update tblstudent set percentage = %s where roll = %s\"\n",
    "    val1 = (per,r[0])\n",
    "    cursor.execute(sql1,val1)\n",
    "con.commit()\n",
    "\n",
    "    "
   ]
  },
  {
   "cell_type": "code",
   "execution_count": 14,
   "metadata": {},
   "outputs": [
    {
     "name": "stdout",
     "output_type": "stream",
     "text": [
      "(8, 'Krishna', datetime.date(2002, 6, 10), 'M', 95, 85, 90, 270, 90.0)\n",
      "(5, 'Hari', datetime.date(2001, 8, 20), 'M', 90, 80, 95, 265, 88.33)\n",
      "(6, 'Mohan', datetime.date(2002, 1, 5), 'M', 85, 90, 80, 255, 85.0)\n",
      "(10, 'Gopal', datetime.date(2002, 9, 28), 'M', 80, 95, 75, 250, 83.33)\n",
      "(3, 'Sita', datetime.date(2002, 4, 25), 'F', 70, 85, 90, 245, 81.67)\n",
      "(2, 'Shyam', datetime.date(2001, 9, 15), 'M', 80, 75, 85, 240, 80.0)\n",
      "(1, 'Saraswati', datetime.date(2001, 7, 15), 'F', 85, 70, 80, 235, 78.33)\n",
      "(7, 'Radha', datetime.date(2001, 12, 30), 'F', 75, 85, 70, 230, 76.67)\n",
      "(9, 'Laxmi', datetime.date(2001, 3, 12), 'F', 70, 75, 85, 230, 76.67)\n",
      "(4, 'Gita', datetime.date(2001, 11, 10), 'F', 65, 70, 75, 210, 70.0)\n"
     ]
    }
   ],
   "source": [
    "# Print merit\n",
    "sql = \"select * from tblstudent order by percentage desc\"\n",
    "cursor.execute(sql)\n",
    "records = cursor.fetchall()\n",
    "for r in records:\n",
    "    print(r)"
   ]
  },
  {
   "cell_type": "code",
   "execution_count": null,
   "metadata": {},
   "outputs": [],
   "source": [
    "# Print two toppers\n",
    "sql = \"select * from tblstudent order by percentage desc limit 2\"\n",
    "cursor.execute(sql)\n",
    "records = cursor.fetchall()\n",
    "for r in records:\n",
    "    print(r)"
   ]
  },
  {
   "cell_type": "code",
   "execution_count": 15,
   "metadata": {},
   "outputs": [
    {
     "name": "stdout",
     "output_type": "stream",
     "text": [
      "(9, 'Laxmi', datetime.date(2001, 3, 12), 'F', 70, 75, 85, 230, 76.67)\n"
     ]
    }
   ],
   "source": [
    "# Youngest female topper\n",
    "sql = \"select * from tblstudent where birthdate in (select min(birthdate) from tblstudent where gender = 'F')order by percentage desc\"\n",
    "\n",
    "cursor.execute(sql)\n",
    "records = cursor.fetchall()\n",
    "for r in records:\n",
    "    print(r)"
   ]
  },
  {
   "cell_type": "code",
   "execution_count": 16,
   "metadata": {},
   "outputs": [
    {
     "name": "stdout",
     "output_type": "stream",
     "text": [
      "(10, 'Gopal', datetime.date(2002, 9, 28), 'M', 80, 95, 75, 250, 83.33)\n"
     ]
    }
   ],
   "source": [
    "sql = \"select * from tblstudent where birthdate in (select max(birthdate) from tblstudent where gender = 'M')order by percentage desc\"\n",
    "\n",
    "cursor.execute(sql)\n",
    "records = cursor.fetchall()\n",
    "for r in records:\n",
    "    print(r)"
   ]
  },
  {
   "cell_type": "code",
   "execution_count": null,
   "metadata": {},
   "outputs": [],
   "source": [
    "params = (11, 'Vatsal', '2001-07-15', 'M', 85, 70, 80,235,78.33)\n",
    "cursor.callproc(\"insert_student\",params)\n",
    "\n",
    "\n"
   ]
  },
  {
   "cell_type": "code",
   "execution_count": null,
   "metadata": {},
   "outputs": [],
   "source": []
  }
 ],
 "metadata": {
  "kernelspec": {
   "display_name": "Python 3",
   "language": "python",
   "name": "python3"
  },
  "language_info": {
   "codemirror_mode": {
    "name": "ipython",
    "version": 3
   },
   "file_extension": ".py",
   "mimetype": "text/x-python",
   "name": "python",
   "nbconvert_exporter": "python",
   "pygments_lexer": "ipython3",
   "version": "3.12.0"
  }
 },
 "nbformat": 4,
 "nbformat_minor": 2
}
