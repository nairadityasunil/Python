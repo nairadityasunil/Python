{
 "cells": [
  {
   "cell_type": "markdown",
   "metadata": {},
   "source": [
    "<h1><center>Practical -1"
   ]
  },
  {
   "cell_type": "code",
   "execution_count": 2,
   "metadata": {},
   "outputs": [
    {
     "name": "stdout",
     "output_type": "stream",
     "text": [
      "Name :  \n",
      "Age :  12\n",
      "Number :  0909\n"
     ]
    }
   ],
   "source": [
    "name = input(\"Enter Name : \")\n",
    "age = input(\"Enter Age : \")\n",
    "number = input(\"Enter Phone : \")\n",
    "\n",
    "print(\"Name : \",name)\n",
    "print(\"Age : \",age)\n",
    "print(\"Number : \",number)"
   ]
  },
  {
   "cell_type": "code",
   "execution_count": 1,
   "metadata": {},
   "outputs": [
    {
     "name": "stdout",
     "output_type": "stream",
     "text": [
      "Simple Interest :  100000.0\n"
     ]
    }
   ],
   "source": [
    "p = int(input(\"Principle : \"))\n",
    "r = int(input(\"Rate Of Interest : \"))\n",
    "n = int(input(\"Tenure : \"))\n",
    "\n",
    "i = (p*r*n)/100\n",
    "\n",
    "print(\"Simple Interest : \",i);"
   ]
  },
  {
   "cell_type": "markdown",
   "metadata": {},
   "source": [
    "Swap 2 variables"
   ]
  },
  {
   "cell_type": "code",
   "execution_count": 2,
   "metadata": {},
   "outputs": [
    {
     "name": "stdout",
     "output_type": "stream",
     "text": [
      "A :  20 B :  10\n"
     ]
    }
   ],
   "source": [
    "a = int(input(\"Value 1 : \"))\n",
    "b = int(input(\"Value 2 : \"))\n",
    "\n",
    "a,b=b,a\n",
    "\n",
    "print(\"A : \",a,\"B : \",b)"
   ]
  },
  {
   "cell_type": "code",
   "execution_count": null,
   "metadata": {},
   "outputs": [],
   "source": []
  }
 ],
 "metadata": {
  "kernelspec": {
   "display_name": "Python 3",
   "language": "python",
   "name": "python3"
  },
  "language_info": {
   "codemirror_mode": {
    "name": "ipython",
    "version": 3
   },
   "file_extension": ".py",
   "mimetype": "text/x-python",
   "name": "python",
   "nbconvert_exporter": "python",
   "pygments_lexer": "ipython3",
   "version": "3.12.0"
  }
 },
 "nbformat": 4,
 "nbformat_minor": 2
}
