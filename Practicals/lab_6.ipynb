{
 "cells": [
  {
   "cell_type": "code",
   "execution_count": 1,
   "metadata": {},
   "outputs": [
    {
     "name": "stdout",
     "output_type": "stream",
     "text": [
      "Name :  Vatsal\n",
      "Basic :  10000\n",
      "Da :  500.0\n",
      "Hra :  500.0\n",
      "Net :  11000.0\n"
     ]
    }
   ],
   "source": [
    "class Employee:\n",
    "    # Constructor initialized\n",
    "    def __init__(self,empno,name,gender,da_rate,hra_rate,basic_salary):\n",
    "        self.empno = empno\n",
    "        self.name = name\n",
    "        self.gender = gender\n",
    "        self.da_rate = da_rate\n",
    "        self.hra_rate = hra_rate\n",
    "        self.basic = basic_salary\n",
    "        \n",
    "    def calc_da(self):\n",
    "        return self.basic *self.da_rate\n",
    "\n",
    "    def calc_hra(self):\n",
    "        return self.basic * self.hra_rate\n",
    "    \n",
    "    def net_salary(self,d,h):\n",
    "        return self.basic + d+h\n",
    "    \n",
    "    def display(self,d,h,net):\n",
    "        print(\"Name : \",self.name)\n",
    "        print(\"Basic : \",self.basic)\n",
    "        print(\"Da : \",d)\n",
    "        print(\"Hra : \",h)\n",
    "        print(\"Net : \",net) \n",
    "##\n",
    "\n",
    "e = Employee(1,'Vatsal','M',0.05,0.05,10000)\n",
    "da = e.calc_da()\n",
    "hra = e.calc_hra()\n",
    "net = e.net_salary(da,hra)\n",
    "e.display(da,hra,net)\n"
   ]
  },
  {
   "cell_type": "code",
   "execution_count": null,
   "metadata": {},
   "outputs": [],
   "source": []
  }
 ],
 "metadata": {
  "kernelspec": {
   "display_name": "Python 3",
   "language": "python",
   "name": "python3"
  },
  "language_info": {
   "codemirror_mode": {
    "name": "ipython",
    "version": 3
   },
   "file_extension": ".py",
   "mimetype": "text/x-python",
   "name": "python",
   "nbconvert_exporter": "python",
   "pygments_lexer": "ipython3",
   "version": "3.12.0"
  }
 },
 "nbformat": 4,
 "nbformat_minor": 2
}
