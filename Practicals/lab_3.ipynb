{
 "cells": [
  {
   "cell_type": "markdown",
   "metadata": {},
   "source": [
    "<h1>Practical 3"
   ]
  },
  {
   "cell_type": "code",
   "execution_count": null,
   "metadata": {},
   "outputs": [],
   "source": [
    "# Converting elements of list to upper case\n",
    "lst =['hello','hi']\n",
    "n = 0\n",
    "for i in lst:\n",
    "    lst[n]=i.upper()\n",
    "    n +=1\n",
    "    \n",
    "lst"
   ]
  },
  {
   "cell_type": "code",
   "execution_count": 22,
   "metadata": {},
   "outputs": [
    {
     "data": {
      "text/plain": [
       "[1, 2, 'Abc', (1, 2, 3), 10, 1, 2, 3]"
      ]
     },
     "execution_count": 22,
     "metadata": {},
     "output_type": "execute_result"
    }
   ],
   "source": [
    "# Remove empty tuples from list\n",
    "lst =[1,2,'Abc',(),(1,2,3),(10),1,2,3,()]\n",
    "for i in lst:\n",
    "    if i==():\n",
    "        lst.remove(i)\n",
    "    \n",
    "lst"
   ]
  },
  {
   "cell_type": "code",
   "execution_count": 32,
   "metadata": {},
   "outputs": [
    {
     "data": {
      "text/plain": [
       "[1, 1]"
      ]
     },
     "execution_count": 32,
     "metadata": {},
     "output_type": "execute_result"
    }
   ],
   "source": [
    "# Remove all unique elements from list\n",
    "lst = [1, 10, 1, 2, 3, 4]\n",
    "lst = [i for i in lst if lst.count(i) > 1]\n",
    "lst"
   ]
  },
  {
   "cell_type": "markdown",
   "metadata": {},
   "source": []
  },
  {
   "cell_type": "code",
   "execution_count": 34,
   "metadata": {},
   "outputs": [
    {
     "data": {
      "text/plain": [
       "[1, 2, 3, 4]"
      ]
     },
     "execution_count": 34,
     "metadata": {},
     "output_type": "execute_result"
    }
   ],
   "source": [
    "# Create sublists in list\n",
    "lst = [1,2,3,4]\n",
    "lst = lst[:]\n",
    "lst"
   ]
  },
  {
   "cell_type": "code",
   "execution_count": 79,
   "metadata": {},
   "outputs": [
    {
     "name": "stdout",
     "output_type": "stream",
     "text": [
      "(2, 6, 120, 5040)\n"
     ]
    },
    {
     "data": {
      "text/plain": [
       "tuple"
      ]
     },
     "execution_count": 79,
     "metadata": {},
     "output_type": "execute_result"
    }
   ],
   "source": [
    "#Generate tuple that contain factorial of first n prime numbers input n from users\n",
    "n = int(input(\"Enter Value For N: \"))\n",
    "lst = []\n",
    "f_tup =[]\n",
    "i = 2\n",
    "\n",
    "# Checking for prime number for first n numbers \n",
    "while len(lst) < n:\n",
    "    for j in range(2, i):\n",
    "        if i % j == 0:\n",
    "            break\n",
    "    else:\n",
    "        lst.append(i)\n",
    "    i += 1\n",
    "    \n",
    "fact = 1\n",
    "for i in lst:\n",
    "    for j in range(1,i+1):\n",
    "        fact = fact*j\n",
    "        \n",
    "    f_tup.append(fact)\n",
    "    fact = 1\n",
    "\n",
    "f_tup = tuple(f_tup)  \n",
    "print(f_tup)\n",
    "type(f_tup)"
   ]
  },
  {
   "cell_type": "code",
   "execution_count": null,
   "metadata": {},
   "outputs": [],
   "source": []
  }
 ],
 "metadata": {
  "kernelspec": {
   "display_name": "Python 3",
   "language": "python",
   "name": "python3"
  },
  "language_info": {
   "codemirror_mode": {
    "name": "ipython",
    "version": 3
   },
   "file_extension": ".py",
   "mimetype": "text/x-python",
   "name": "python",
   "nbconvert_exporter": "python",
   "pygments_lexer": "ipython3",
   "version": "3.12.0"
  }
 },
 "nbformat": 4,
 "nbformat_minor": 2
}
