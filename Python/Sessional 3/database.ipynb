from mysql.connector import Connect

# Making connection
try:
    con = Connect(
        host ="localhost",
        port = 3307,
        user = "root"
        password = "Appu_2003",
        database = "pydb"
        )
expect Error as e