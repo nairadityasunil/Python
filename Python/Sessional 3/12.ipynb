import mysql.connector
from mysql.connector import Connect,Error

con = Connect(
    host = "localhost",
    port = 3307,
    user = "root",
    password="Appu_2003",
    database="dbstudent",
    )
