{
 "cells": [
  {
   "cell_type": "code",
   "execution_count": 2,
   "metadata": {},
   "outputs": [],
   "source": [
    "from mysql.connector import Connect,Error\n",
    "\n",
    "# Making connection\n",
    "\n",
    "con = Connect(\n",
    "    host =\"localhost\",\n",
    "    port = 3307,\n",
    "    user = \"root\",\n",
    "    password = \"Appu_2003\",\n",
    "    database = \"pydb\"\n",
    "    )\n",
    "\n",
    "cursor = con.cursor()"
   ]
  },
  {
   "cell_type": "markdown",
   "metadata": {},
   "source": [
    "# Procedure used\n",
    "\n",
    "Insert Record\n",
    "\n",
    "DELIMITER //\n",
    "\n",
    "CREATE PROCEDURE  ins_book1(\n",
    "    IN bookIndex INT,\n",
    "    IN bookName VARCHAR(30),\n",
    "    IN bookPrice INT\n",
    ")\n",
    "BEGIN\n",
    "    INSERT INTO tblbook (bookind, name, price) VALUES (bookIndex, bookName, bookPrice);\n",
    "END //\n",
    "\n",
    "DELIMITER ;\n",
    "\n",
    "\n",
    "DELIMITER // \n",
    "CREATE PROCEDURE find (\n",
    "    IN bname varchar(30)\n",
    ")\n",
    "BEGIN\n",
    "    Select * from tblbook where name = bname;\n",
    "END //\n",
    "DELIMITER ;\n"
   ]
  },
  {
   "cell_type": "code",
   "execution_count": 4,
   "metadata": {},
   "outputs": [],
   "source": [
    "# Inserting record in the table\n",
    "\n",
    "for i in range(2):\n",
    "    bid = input(\"Enter Book Id : \")\n",
    "    name = input(\"Enter Book Name : \")\n",
    "    price = input(\"Enter Price : \")\n",
    "    try:\n",
    "        cursor.callproc('ins_book1',[bid,name,price])\n",
    "        con.commit()\n",
    "    except Error as e:\n",
    "        print(e)"
   ]
  },
  {
   "cell_type": "code",
   "execution_count": 5,
   "metadata": {},
   "outputs": [
    {
     "name": "stdout",
     "output_type": "stream",
     "text": [
      "(1, 'a', 100)\n"
     ]
    }
   ],
   "source": [
    "# Running search procedure\n",
    "name = input(\"Enter Book Name :\")\n",
    "try:\n",
    "    cursor.callproc('find',[name])\n",
    "    for result in cursor.stored_results():\n",
    "        for row in result.fetchall():\n",
    "            print(row)\n",
    "except Error as e:\n",
    "    print(e)"
   ]
  }
 ],
 "metadata": {
  "kernelspec": {
   "display_name": "Python 3",
   "language": "python",
   "name": "python3"
  },
  "language_info": {
   "codemirror_mode": {
    "name": "ipython",
    "version": 3
   },
   "file_extension": ".py",
   "mimetype": "text/x-python",
   "name": "python",
   "nbconvert_exporter": "python",
   "pygments_lexer": "ipython3",
   "version": "3.12.0"
  }
 },
 "nbformat": 4,
 "nbformat_minor": 2
}
