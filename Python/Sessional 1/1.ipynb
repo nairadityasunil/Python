{
 "cells": [
  {
   "cell_type": "code",
   "execution_count": 25,
   "metadata": {},
   "outputs": [
    {
     "name": "stdout",
     "output_type": "stream",
     "text": [
      "(-765, 'notyP', -4321.598)\n"
     ]
    }
   ],
   "source": [
    "# Write a python program to reverse tuple elements\n",
    "tup1 = (-567, 'Pyton', -1234.895)\n",
    "lst = []\n",
    "for i in range(len(tup1)):\n",
    "    element = tup1[i]\n",
    "    \n",
    "    if (isinstance(element,int)):\n",
    "        if(element>0):\n",
    "            reversed = int(str(element)[::-1])\n",
    "        elif(element<0):\n",
    "            element = str(element)\n",
    "            a = list(element.split('-'))\n",
    "            a = a[1]\n",
    "            reversed = str(a)[::-1]\n",
    "            reversed = int('-'+reversed)\n",
    "            lst.append(reversed)\n",
    "        \n",
    "    elif (isinstance(element,str)):\n",
    "        reversed = element[::-1]\n",
    "        lst.append(reversed)\n",
    "    \n",
    "    elif (isinstance(element,float)):\n",
    "        if(element>0):\n",
    "            element = str(element)\n",
    "            temp = list(element.split('.'))\n",
    "            first = temp[0]\n",
    "            second = temp[1]\n",
    "            first = first[::-1]\n",
    "            second = second[::-1]\n",
    "            reversed = first+\".\"+second\n",
    "            reversed = float(reversed)\n",
    "            lst.append(reversed)            \n",
    "            \n",
    "        elif(element<0):\n",
    "            element = str(element)\n",
    "            temp = list(element.split('-'))\n",
    "            temp2 = temp[1]\n",
    "            temp3 = temp2.split('.')\n",
    "            \n",
    "            first =temp3[0]\n",
    "            second = temp3[1]\n",
    "            \n",
    "            first = first[::-1]\n",
    "            second = second[::-1]\n",
    "            reversed = float('-'+first+'.'+second)\n",
    "            lst.append(reversed)\n",
    "lst = tuple(lst)        \n",
    "print(lst)"
   ]
  },
  {
   "cell_type": "code",
   "execution_count": 28,
   "metadata": {},
   "outputs": [
    {
     "name": "stdout",
     "output_type": "stream",
     "text": [
      "[1, 2, 3, 4, 5]\n",
      "5\n",
      "[1, 2, 3, 4]\n"
     ]
    }
   ],
   "source": [
    "# Implement functionality of stack without using built in function\n",
    "\n",
    "stack =[]\n",
    "\n",
    "stack.append(1)\n",
    "stack.append(2)\n",
    "stack.append(3)\n",
    "stack.append(4)\n",
    "stack.append(5)\n",
    "\n",
    "print(stack)\n",
    "\n",
    "print(stack.pop())\n",
    "\n",
    "print(stack)\n"
   ]
  },
  {
   "cell_type": "code",
   "execution_count": null,
   "metadata": {},
   "outputs": [],
   "source": [
    "# Python program to rename a key of the dictionary\n"
   ]
  }
 ],
 "metadata": {
  "kernelspec": {
   "display_name": "Python 3",
   "language": "python",
   "name": "python3"
  },
  "language_info": {
   "codemirror_mode": {
    "name": "ipython",
    "version": 3
   },
   "file_extension": ".py",
   "mimetype": "text/x-python",
   "name": "python",
   "nbconvert_exporter": "python",
   "pygments_lexer": "ipython3",
   "version": "3.12.0"
  }
 },
 "nbformat": 4,
 "nbformat_minor": 2
}
