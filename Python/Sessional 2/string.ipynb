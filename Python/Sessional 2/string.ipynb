{
 "cells": [
  {
   "cell_type": "code",
   "execution_count": 14,
   "metadata": {},
   "outputs": [
    {
     "name": "stdout",
     "output_type": "stream",
     "text": [
      "hELLO\n",
      "Not Palindrome\n"
     ]
    }
   ],
   "source": [
    "class String:\n",
    "    def __init__(self,mystr):\n",
    "        self.mystr = mystr\n",
    "        \n",
    "\n",
    "    def toReverseCase(self):\n",
    "        str2 = list(self.mystr)\n",
    "        ln = len(str2)\n",
    "        for i in range(ln):\n",
    "            if str2[i] >= 'a' and str2[i] <= 'z':\n",
    "                # Convert to upper case\n",
    "                str2[i] = chr(ord(str2[i])-32)\n",
    "            elif str2[i] >= 'A' and str2[i] <= 'Z':\n",
    "                # Convert to lower case\n",
    "                str2[i] = chr(ord(str2[i])+32)\n",
    "        \n",
    "        str2 =\"\".join(str2)\n",
    "        \n",
    "        print(str2)\n",
    "    ##        \n",
    "    \n",
    "    def isPalindrome(self):\n",
    "        str2 = self.mystr[::-1]\n",
    "        if str2==self.mystr:\n",
    "            print(\"Palindrome\")\n",
    "        else:\n",
    "            print(\"Not Palindrome\")\n",
    "##\n",
    "\n",
    "\n",
    "obj = String(\"Hello\")\n",
    "obj.toReverseCase()\n",
    "obj.isPalindrome()  "
   ]
  },
  {
   "cell_type": "code",
   "execution_count": null,
   "metadata": {},
   "outputs": [],
   "source": []
  }
 ],
 "metadata": {
  "kernelspec": {
   "display_name": "Python 3",
   "language": "python",
   "name": "python3"
  },
  "language_info": {
   "codemirror_mode": {
    "name": "ipython",
    "version": 3
   },
   "file_extension": ".py",
   "mimetype": "text/x-python",
   "name": "python",
   "nbconvert_exporter": "python",
   "pygments_lexer": "ipython3",
   "version": "3.12.0"
  }
 },
 "nbformat": 4,
 "nbformat_minor": 2
}
