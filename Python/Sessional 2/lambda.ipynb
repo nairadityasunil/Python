{
 "cells": [
  {
   "cell_type": "code",
   "execution_count": 2,
   "metadata": {},
   "outputs": [
    {
     "name": "stdout",
     "output_type": "stream",
     "text": [
      "15\n"
     ]
    }
   ],
   "source": [
    "# lambda function to find largest of two numbers\n",
    "\n",
    "largest =lambda x,y: x if x>y else y\n",
    "\n",
    "print(largest(10,15))"
   ]
  },
  {
   "cell_type": "code",
   "execution_count": 4,
   "metadata": {},
   "outputs": [
    {
     "name": "stdout",
     "output_type": "stream",
     "text": [
      "odd\n"
     ]
    }
   ],
   "source": [
    "# Lambda function to check odd or even\n",
    "\n",
    "check = lambda x : 'even' if x%2==0 else 'odd'\n",
    "print(check(3)) "
   ]
  },
  {
   "cell_type": "code",
   "execution_count": 6,
   "metadata": {},
   "outputs": [
    {
     "name": "stdout",
     "output_type": "stream",
     "text": [
      "[12, 14]\n"
     ]
    }
   ],
   "source": [
    "# Map reduce and filter function\n",
    "\n",
    "import functools\n",
    "\n",
    "# Filter marks greater than 11\n",
    "marks = [10,12,14,9,8]\n",
    "\n",
    "def fil(x):\n",
    "    if x>11:\n",
    "        return x\n",
    "    \n",
    "marks_fil = list(filter(fil,marks))\n",
    "\n",
    "print(marks_fil)"
   ]
  },
  {
   "cell_type": "code",
   "execution_count": 7,
   "metadata": {},
   "outputs": [
    {
     "name": "stdout",
     "output_type": "stream",
     "text": [
      "[12, 14, 16, 11, 10]\n"
     ]
    }
   ],
   "source": [
    "\n",
    "# Give grace marks 2 to all students\n",
    "marks = [10,12,14,9,8]\n",
    "grace = list(map(lambda x: x+2,marks))\n",
    "print(grace)"
   ]
  },
  {
   "cell_type": "code",
   "execution_count": 10,
   "metadata": {},
   "outputs": [
    {
     "name": "stdout",
     "output_type": "stream",
     "text": [
      "5040\n"
     ]
    }
   ],
   "source": [
    "from functools import reduce\n",
    "# Compute factorial of a number using reduce\n",
    "num = int(input(\"Enter Number : \"))\n",
    "num_lst = list(range(1,num+1))\n",
    "fact = reduce(lambda x,y:x*y,num_lst)\n",
    "print(fact)\n"
   ]
  },
  {
   "cell_type": "code",
   "execution_count": null,
   "metadata": {},
   "outputs": [],
   "source": []
  },
  {
   "cell_type": "code",
   "execution_count": null,
   "metadata": {},
   "outputs": [],
   "source": []
  }
 ],
 "metadata": {
  "kernelspec": {
   "display_name": "Python 3",
   "language": "python",
   "name": "python3"
  },
  "language_info": {
   "codemirror_mode": {
    "name": "ipython",
    "version": 3
   },
   "file_extension": ".py",
   "mimetype": "text/x-python",
   "name": "python",
   "nbconvert_exporter": "python",
   "pygments_lexer": "ipython3",
   "version": "3.12.0"
  }
 },
 "nbformat": 4,
 "nbformat_minor": 2
}
