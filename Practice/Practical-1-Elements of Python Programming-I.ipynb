{
 "cells": [
  {
   "cell_type": "markdown",
   "id": "closed-credits",
   "metadata": {},
   "source": [
    "### 1. How to create Python program in Jupyter Notebook?\n",
    "- Observe Jupyter Notebook interface.<br>\n",
    "- The escape/command mode. (Press ESC key.)<br>\n",
    "- The edit mode.(Press enter key.)<br>\n",
    "- Cell types:<br>\n",
    "-- Markdown<br>\n",
    "-- Code"
   ]
  },
  {
   "cell_type": "markdown",
   "id": "essential-possession",
   "metadata": {},
   "source": [
    "- Insert cell below current cell: ESC , b <br>\n",
    "- Insert cell above current cell: ESC , a <br>\n",
    "- Delete current cell: ESC , x <br>\n",
    "- Run current cell: SHIFT + ENTER <br>\n",
    "- Visit the INSERT & CELL menus."
   ]
  },
  {
   "cell_type": "markdown",
   "id": "powered-float",
   "metadata": {},
   "source": [
    "### 3. Datatypes & boolean operators\n",
    "- No need to declare/create variables.<br>\n",
    "- Execute following code in Jupyter & notice output:"
   ]
  },
  {
   "cell_type": "code",
   "execution_count": 1,
   "id": "demonstrated-grove",
   "metadata": {},
   "outputs": [
    {
     "name": "stdout",
     "output_type": "stream",
     "text": [
      "79\n"
     ]
    }
   ],
   "source": [
    "x = 79\n",
    "print(x)"
   ]
  },
  {
   "cell_type": "code",
   "execution_count": 2,
   "id": "6d8c1fba",
   "metadata": {},
   "outputs": [
    {
     "data": {
      "text/plain": [
       "79"
      ]
     },
     "execution_count": 2,
     "metadata": {},
     "output_type": "execute_result"
    }
   ],
   "source": [
    "x"
   ]
  },
  {
   "cell_type": "code",
   "execution_count": 3,
   "id": "settled-division",
   "metadata": {},
   "outputs": [
    {
     "data": {
      "text/plain": [
       "int"
      ]
     },
     "execution_count": 3,
     "metadata": {},
     "output_type": "execute_result"
    }
   ],
   "source": [
    "type(x)"
   ]
  },
  {
   "cell_type": "code",
   "execution_count": 7,
   "id": "crucial-short",
   "metadata": {},
   "outputs": [
    {
     "name": "stdout",
     "output_type": "stream",
     "text": [
      "Python\n"
     ]
    }
   ],
   "source": [
    "name = \"Python\"\n",
    "print(name)"
   ]
  },
  {
   "cell_type": "code",
   "execution_count": 8,
   "id": "hungry-harassment",
   "metadata": {},
   "outputs": [
    {
     "data": {
      "text/plain": [
       "str"
      ]
     },
     "execution_count": 8,
     "metadata": {},
     "output_type": "execute_result"
    }
   ],
   "source": [
    "type(name)"
   ]
  },
  {
   "cell_type": "code",
   "execution_count": 9,
   "id": "782acaac",
   "metadata": {},
   "outputs": [
    {
     "data": {
      "text/plain": [
       "'Python'"
      ]
     },
     "execution_count": 9,
     "metadata": {},
     "output_type": "execute_result"
    }
   ],
   "source": [
    "name"
   ]
  },
  {
   "cell_type": "code",
   "execution_count": 10,
   "id": "future-child",
   "metadata": {},
   "outputs": [
    {
     "name": "stdout",
     "output_type": "stream",
     "text": [
      "False\n"
     ]
    }
   ],
   "source": [
    "y = 97\n",
    "\n",
    "z = x == y\n",
    "print(z)"
   ]
  },
  {
   "cell_type": "code",
   "execution_count": 11,
   "id": "sustained-interference",
   "metadata": {},
   "outputs": [
    {
     "data": {
      "text/plain": [
       "bool"
      ]
     },
     "execution_count": 11,
     "metadata": {},
     "output_type": "execute_result"
    }
   ],
   "source": [
    "type(z)"
   ]
  },
  {
   "cell_type": "code",
   "execution_count": 12,
   "id": "accompanied-sleeve",
   "metadata": {},
   "outputs": [
    {
     "name": "stdout",
     "output_type": "stream",
     "text": [
      "Hindustan\n"
     ]
    }
   ],
   "source": [
    "name2 = \"Hindustan\"\n",
    "print(name2)"
   ]
  },
  {
   "cell_type": "code",
   "execution_count": 13,
   "id": "opponent-administrator",
   "metadata": {},
   "outputs": [
    {
     "name": "stdout",
     "output_type": "stream",
     "text": [
      "True\n",
      "<class 'bool'>\n"
     ]
    }
   ],
   "source": [
    "z = name != name2\n",
    "print(z)\n",
    "print(type(z))"
   ]
  },
  {
   "cell_type": "code",
   "execution_count": 14,
   "id": "renewable-durham",
   "metadata": {},
   "outputs": [
    {
     "data": {
      "text/plain": [
       "bool"
      ]
     },
     "execution_count": 14,
     "metadata": {},
     "output_type": "execute_result"
    }
   ],
   "source": [
    "type(z)"
   ]
  },
  {
   "cell_type": "markdown",
   "id": "leading-tradition",
   "metadata": {},
   "source": [
    "### 4. The print() and input() functions"
   ]
  },
  {
   "cell_type": "code",
   "execution_count": 16,
   "id": "instructional-teacher",
   "metadata": {},
   "outputs": [
    {
     "name": "stdout",
     "output_type": "stream",
     "text": [
      "Enter your name:Narayan\n",
      "Your name is: Narayan\n"
     ]
    }
   ],
   "source": [
    "nm = input(\"Enter your name:\")\n",
    "# nm = input()\n",
    "print(\"Your name is:\", nm)"
   ]
  },
  {
   "cell_type": "code",
   "execution_count": 17,
   "id": "ethical-graduate",
   "metadata": {},
   "outputs": [
    {
     "name": "stdout",
     "output_type": "stream",
     "text": [
      "Hello. My name is  Narayan  I am a student. Regards from Narayan Again  Narayan\n",
      "Notice semicolon in the code on current line.\n"
     ]
    }
   ],
   "source": [
    "print(\"Hello. My name is \",nm,\" I am a student. Regards from\",nm,\"Again \",nm) ;  print(\"Notice semicolon in the code on current line.\")"
   ]
  },
  {
   "cell_type": "code",
   "execution_count": 18,
   "id": "martial-nicholas",
   "metadata": {},
   "outputs": [
    {
     "name": "stdout",
     "output_type": "stream",
     "text": [
      "Enter your age:7\n",
      "Your age is: 7\n"
     ]
    }
   ],
   "source": [
    "age = input(\"Enter your age:\")\n",
    "print(\"Your age is:\",age)"
   ]
  },
  {
   "cell_type": "markdown",
   "id": "seventh-glasgow",
   "metadata": {},
   "source": [
    "### 5. Type casting"
   ]
  },
  {
   "cell_type": "code",
   "execution_count": 19,
   "id": "hollow-soundtrack",
   "metadata": {},
   "outputs": [
    {
     "data": {
      "text/plain": [
       "str"
      ]
     },
     "execution_count": 19,
     "metadata": {},
     "output_type": "execute_result"
    }
   ],
   "source": [
    "type(age) # Notice datatype of the age variable"
   ]
  },
  {
   "cell_type": "code",
   "execution_count": 20,
   "id": "occupied-calculation",
   "metadata": {},
   "outputs": [
    {
     "name": "stdout",
     "output_type": "stream",
     "text": [
      "Your age is: 7\n"
     ]
    }
   ],
   "source": [
    "age = int(age) # cast str to int\n",
    "print(\"Your age is:\",age)"
   ]
  },
  {
   "cell_type": "code",
   "execution_count": 21,
   "id": "reliable-clone",
   "metadata": {},
   "outputs": [
    {
     "data": {
      "text/plain": [
       "int"
      ]
     },
     "execution_count": 21,
     "metadata": {},
     "output_type": "execute_result"
    }
   ],
   "source": [
    "type(age) # Notice datatype of the age variable"
   ]
  },
  {
   "cell_type": "code",
   "execution_count": 23,
   "id": "broadband-container",
   "metadata": {},
   "outputs": [
    {
     "name": "stdout",
     "output_type": "stream",
     "text": [
      "Enter rate of interest:8.5\n",
      "Rate of interest =  8.5\n"
     ]
    }
   ],
   "source": [
    "roi = float(input(\"Enter rate of interest:\"))\n",
    "print(\"Rate of interest = \",roi)"
   ]
  },
  {
   "cell_type": "code",
   "execution_count": 24,
   "id": "static-penalty",
   "metadata": {},
   "outputs": [
    {
     "data": {
      "text/plain": [
       "float"
      ]
     },
     "execution_count": 24,
     "metadata": {},
     "output_type": "execute_result"
    }
   ],
   "source": [
    "type(roi)"
   ]
  },
  {
   "cell_type": "markdown",
   "id": "muslim-think",
   "metadata": {},
   "source": [
    "### EXERCISES\n",
    "Install Jupter Notebook in your system.<br>\n",
    "Create Python programs for the following:\n",
    "<ol>\n",
    "    <li>Input user's fullname, age, complete address, phone number on screen. Print them on screen.\n",
    "    <li>Input two integer operands from user. Print their summation, difference, multiplication and division.\n",
    "    <li>Input/read principal amount(P), rate of interest(R) and Duraton in Number of years (N) from user. Compute Simple Interest.\n",
    "    <li>Compute compound interest in above program.\n",
    "    <li>Input radius of circle from user. Compute diameter, perimeter and area of circle.\n",
    "    <li>Input student details: rollno, name and marks of 4 subjects from user. Calculate total marks, percentage and grade. Print mark-sheet.\n",
    "    <li>Input employee details: empno, name, gender, basic salary from user. Calculate DA (120% of basic salary ), HRA (10% of basic salary) and total salary. Also calculate yearly gross salary which also includes bonus (50% of one basic salary).\n",
    "    <li>Compute area and perimeter of a rectangle.\n",
    "    <li>(i) Celcius to Fahrenheit. (ii) Fahrenheit to Celcius.\n",
    "    <li>(i) Kelogram to Gram.      (ii) Meter to Kelometer.\n",
    "    <li>(i) Show current date. (ii) Show current time. (iii) Show current date and time.\n",
    "    <li>Store your birthdate (in a valid date format) in a variable.\n",
    "    <li>Swap values of two variables.\n",
    "</ol>"
   ]
  },
  {
   "cell_type": "code",
   "execution_count": 25,
   "id": "incorporate-cedar",
   "metadata": {},
   "outputs": [],
   "source": [
    "# import datetime\n",
    "# cdt = datetime.datetime.now()\n",
    "# bdt = datetime.datetime(2023, 07, 03)"
   ]
  }
 ],
 "metadata": {
  "interpreter": {
   "hash": "580da2304ff396147d509682ff11b5797ce071da1641d1a402953ffbfa995e0e"
  },
  "kernelspec": {
   "display_name": "Python 3 (ipykernel)",
   "language": "python",
   "name": "python3"
  },
  "language_info": {
   "codemirror_mode": {
    "name": "ipython",
    "version": 3
   },
   "file_extension": ".py",
   "mimetype": "text/x-python",
   "name": "python",
   "nbconvert_exporter": "python",
   "pygments_lexer": "ipython3",
   "version": "3.10.9"
  }
 },
 "nbformat": 4,
 "nbformat_minor": 5
}
