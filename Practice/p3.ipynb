{
 "cells": [
  {
   "cell_type": "code",
   "execution_count": 16,
   "metadata": {},
   "outputs": [
    {
     "name": "stdout",
     "output_type": "stream",
     "text": [
      " RACECAR\n"
     ]
    }
   ],
   "source": [
    "str = \"racecar\"\n",
    "str2 = list(str.split())\n",
    "\n",
    "lst1 = \"\"\n",
    "for i in range(len(str2)):\n",
    "    temp = str2[i]    \n",
    "    lst1 = lst1 + \" \" + temp[::-1].upper()\n",
    "print(lst1)\n"
   ]
  },
  {
   "cell_type": "code",
   "execution_count": 24,
   "metadata": {},
   "outputs": [
    {
     "ename": "TypeError",
     "evalue": "'str' object is not callable",
     "output_type": "error",
     "traceback": [
      "\u001b[1;31m---------------------------------------------------------------------------\u001b[0m",
      "\u001b[1;31mTypeError\u001b[0m                                 Traceback (most recent call last)",
      "Cell \u001b[1;32mIn[24], line 15\u001b[0m\n\u001b[0;32m     12\u001b[0m             lst1\u001b[38;5;241m.\u001b[39mappend(temp[j])  \u001b[38;5;66;03m# Keep non-alphabetic characters as they are\u001b[39;00m\n\u001b[0;32m     14\u001b[0m \u001b[38;5;66;03m# print(''.join(lst1))\u001b[39;00m\n\u001b[1;32m---> 15\u001b[0m \u001b[38;5;28mprint\u001b[39m(\u001b[38;5;28;43mstr\u001b[39;49m\u001b[43m(\u001b[49m\u001b[43mlst1\u001b[49m\u001b[43m)\u001b[49m)\n",
      "\u001b[1;31mTypeError\u001b[0m: 'str' object is not callable"
     ]
    }
   ],
   "source": [
    "str = \"Hard & smart work is better than arguments\"\n",
    "str2 = list(str.split())\n",
    "\n",
    "lst1 = []\n",
    "\n",
    "for i in range(len(str2)):\n",
    "    for j in range(len(str2[i])):\n",
    "        temp = str2[i]\n",
    "        if ord(temp[j]) >= 97 and ord(temp[j]) <= 122:  # Check if the character is lowercase\n",
    "            lst1.append(chr(ord(temp[j]) - 32))  # Convert to uppercase and append to lst1\n",
    "        else:\n",
    "            lst1.append(temp[j])  # Keep non-alphabetic characters as they are\n",
    "\n",
    "print(''.join(lst1))"
   ]
  },
  {
   "cell_type": "code",
   "execution_count": null,
   "metadata": {},
   "outputs": [],
   "source": []
  }
 ],
 "metadata": {
  "kernelspec": {
   "display_name": "Python 3",
   "language": "python",
   "name": "python3"
  },
  "language_info": {
   "codemirror_mode": {
    "name": "ipython",
    "version": 3
   },
   "file_extension": ".py",
   "mimetype": "text/x-python",
   "name": "python",
   "nbconvert_exporter": "python",
   "pygments_lexer": "ipython3",
   "version": "3.12.0"
  }
 },
 "nbformat": 4,
 "nbformat_minor": 2
}
