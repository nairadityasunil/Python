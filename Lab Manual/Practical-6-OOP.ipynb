{
 "cells": [
  {
   "cell_type": "markdown",
   "id": "dutch-armenia",
   "metadata": {},
   "source": [
    "#### How to create class?"
   ]
  },
  {
   "cell_type": "code",
   "execution_count": null,
   "id": "simple-checkout",
   "metadata": {},
   "outputs": [],
   "source": [
    "class Quote:\n",
    "    def tinker(self):\n",
    "        print(\"Be accountable!\")\n",
    "    ##\n",
    "##"
   ]
  },
  {
   "cell_type": "markdown",
   "id": "structural-employee",
   "metadata": {},
   "source": [
    "#### How to instantiate a class?"
   ]
  },
  {
   "cell_type": "code",
   "execution_count": null,
   "id": "statutory-updating",
   "metadata": {},
   "outputs": [],
   "source": [
    "obj1 = Quote()"
   ]
  },
  {
   "cell_type": "markdown",
   "id": "pressed-cream",
   "metadata": {},
   "source": [
    "#### How to invoke method?"
   ]
  },
  {
   "cell_type": "code",
   "execution_count": null,
   "id": "dependent-myanmar",
   "metadata": {},
   "outputs": [],
   "source": [
    "obj1.tinker()"
   ]
  },
  {
   "cell_type": "code",
   "execution_count": null,
   "id": "favorite-pound",
   "metadata": {},
   "outputs": [],
   "source": []
  },
  {
   "cell_type": "markdown",
   "id": "suspected-strengthening",
   "metadata": {},
   "source": [
    "#### How to pass parameters to method?"
   ]
  },
  {
   "cell_type": "code",
   "execution_count": null,
   "id": "marked-austin",
   "metadata": {},
   "outputs": [],
   "source": [
    "class Quote:\n",
    "    def tinker(self,quote):\n",
    "        print(quote)\n",
    "    ##\n",
    "##"
   ]
  },
  {
   "cell_type": "code",
   "execution_count": null,
   "id": "conditional-inspiration",
   "metadata": {},
   "outputs": [],
   "source": [
    "obj1 = Quote()\n",
    "obj1.tinker(\"Be responsible!\")"
   ]
  },
  {
   "cell_type": "code",
   "execution_count": null,
   "id": "innocent-composer",
   "metadata": {},
   "outputs": [],
   "source": [
    "obj1.tinker(\"Time management!\")"
   ]
  },
  {
   "cell_type": "code",
   "execution_count": null,
   "id": "selected-software",
   "metadata": {},
   "outputs": [],
   "source": [
    "obj1.tinker(\"Values matter!\")"
   ]
  },
  {
   "cell_type": "code",
   "execution_count": null,
   "id": "continental-candle",
   "metadata": {},
   "outputs": [],
   "source": []
  },
  {
   "cell_type": "code",
   "execution_count": null,
   "id": "unknown-lodging",
   "metadata": {},
   "outputs": [],
   "source": [
    "class Multiplication:\n",
    "    def multiply(self,op1,op2):\n",
    "        ans = op1 * op2\n",
    "        print(ans)\n",
    "    ##\n",
    "##"
   ]
  },
  {
   "cell_type": "code",
   "execution_count": null,
   "id": "armed-chapter",
   "metadata": {},
   "outputs": [],
   "source": [
    "m1 = Multiplication()\n",
    "m1.multiply(7,9)"
   ]
  },
  {
   "cell_type": "code",
   "execution_count": null,
   "id": "danish-statement",
   "metadata": {},
   "outputs": [],
   "source": []
  },
  {
   "cell_type": "markdown",
   "id": "optical-peninsula",
   "metadata": {},
   "source": [
    "#### How to work with data members?"
   ]
  },
  {
   "cell_type": "code",
   "execution_count": null,
   "id": "complicated-effectiveness",
   "metadata": {},
   "outputs": [],
   "source": [
    "class Quote:\n",
    "    def set(self,quote):\n",
    "        self.quote = quote  # notice the presence of the self keyword\n",
    "    ##\n",
    "    def tinker(self):\n",
    "        print(self.quote)\n",
    "    ##\n",
    "##"
   ]
  },
  {
   "cell_type": "code",
   "execution_count": null,
   "id": "thorough-alaska",
   "metadata": {},
   "outputs": [],
   "source": [
    "q1 = Quote()\n",
    "q1.set(\"Respect mother!\")\n",
    "q1.tinker()"
   ]
  },
  {
   "cell_type": "code",
   "execution_count": null,
   "id": "korean-cricket",
   "metadata": {},
   "outputs": [],
   "source": [
    "q2 = Quote()\n",
    "q2.set(\"Respect teacher!\")\n",
    "q2.tinker()"
   ]
  },
  {
   "cell_type": "code",
   "execution_count": null,
   "id": "sustained-realtor",
   "metadata": {},
   "outputs": [],
   "source": []
  },
  {
   "cell_type": "code",
   "execution_count": null,
   "id": "active-hollow",
   "metadata": {},
   "outputs": [],
   "source": [
    "class Student:\n",
    "    def set(self,rno,nm,cm,cppm,pm):\n",
    "        self.rollno = rno\n",
    "        self.name = nm\n",
    "        self.cmarks = cm\n",
    "        self.cppmarks = cppm\n",
    "        self.pythonmarks = pm\n",
    "        self.perc = 0\n",
    "    #\n",
    "    def calc(self):\n",
    "        total = self.cmarks + self.cppmarks + self.pythonmarks\n",
    "        self.perc = total / 300 * 100\n",
    "    #\n",
    "    def show(self):\n",
    "        print(self.rollno,self.name,self.cmarks,self.cppmarks,self.pythonmarks,':',self.perc)"
   ]
  },
  {
   "cell_type": "code",
   "execution_count": null,
   "id": "prescribed-centre",
   "metadata": {},
   "outputs": [],
   "source": [
    "s1 = Student()\n",
    "s1.set(1,'Abhimanyu',95,97,99)\n",
    "s1.calc()\n",
    "s1.show()"
   ]
  },
  {
   "cell_type": "code",
   "execution_count": null,
   "id": "cognitive-church",
   "metadata": {},
   "outputs": [],
   "source": []
  },
  {
   "cell_type": "markdown",
   "id": "opened-trading",
   "metadata": {},
   "source": [
    "#### How to work with constructor?"
   ]
  },
  {
   "cell_type": "code",
   "execution_count": null,
   "id": "interstate-rates",
   "metadata": {},
   "outputs": [],
   "source": [
    "class Quote:\n",
    "    def __init__(self,quote): # constructor\n",
    "        print(\"The constructor __init__() got called.\")\n",
    "        self.quote = quote\n",
    "        print(\"In __init__(), quote = \",self.quote)\n",
    "    ##\n",
    "    def set(self,quote):\n",
    "        self.quote = quote\n",
    "    ##\n",
    "    def tinker(self):\n",
    "        print(self.quote)\n",
    "    ##\n",
    "##"
   ]
  },
  {
   "cell_type": "code",
   "execution_count": null,
   "id": "optical-somalia",
   "metadata": {},
   "outputs": [],
   "source": [
    "q1 = Quote(\"Respect father!\") # notice constructor invocation\n",
    "q1.tinker()\n",
    "\n",
    "q1.set(\"Respect mother!\")\n",
    "q1.tinker()"
   ]
  },
  {
   "cell_type": "code",
   "execution_count": null,
   "id": "ranking-manhattan",
   "metadata": {},
   "outputs": [],
   "source": []
  },
  {
   "cell_type": "markdown",
   "id": "951e1e5c",
   "metadata": {},
   "source": [
    "\n",
    "#### Inheritance"
   ]
  },
  {
   "cell_type": "code",
   "execution_count": null,
   "id": "romance-coordination",
   "metadata": {},
   "outputs": [],
   "source": [
    "class Person:\n",
    "    def setName(self, name):   # setter method or mutator method\n",
    "        self.name = name\n",
    "    ##\n",
    "    def getName(self):         # getter method or accessor method\n",
    "        return self.name\n",
    "    ##\n",
    "##"
   ]
  },
  {
   "cell_type": "code",
   "execution_count": null,
   "id": "63d5d630",
   "metadata": {},
   "outputs": [],
   "source": [
    "p = Person()\n",
    "p.setName('ram')\n",
    "p.getName()"
   ]
  },
  {
   "cell_type": "code",
   "execution_count": null,
   "id": "69651f64",
   "metadata": {},
   "outputs": [],
   "source": [
    "class Student(Person):      ## Person is base class (i.e. parent class)   AND Student is child class (i.e. derived class)\n",
    "    def setStudent(self,name,age):\n",
    "        self.age = age\n",
    "        self.setName(name)\n",
    "    ##\n",
    "    def printStudent(self):\n",
    "        print(self.getName())\n",
    "        print(self.age)\n",
    "    ##\n",
    "##"
   ]
  },
  {
   "cell_type": "code",
   "execution_count": null,
   "id": "5e38d43e",
   "metadata": {},
   "outputs": [],
   "source": [
    "s1 = Student()"
   ]
  },
  {
   "cell_type": "code",
   "execution_count": null,
   "id": "9fb2748d",
   "metadata": {},
   "outputs": [],
   "source": [
    "s1.setStudent('ram',7)"
   ]
  },
  {
   "cell_type": "code",
   "execution_count": null,
   "id": "75ab430f",
   "metadata": {},
   "outputs": [],
   "source": [
    "s1.printStudent()"
   ]
  },
  {
   "cell_type": "code",
   "execution_count": null,
   "id": "e5a442cf",
   "metadata": {},
   "outputs": [],
   "source": []
  },
  {
   "cell_type": "code",
   "execution_count": null,
   "id": "bcc81cfb",
   "metadata": {},
   "outputs": [],
   "source": [
    "class Father:\n",
    "    def __init__(self):\n",
    "        self.property = 5000\n",
    "    ##\n",
    "    def display_property(self):\n",
    "        print(\"Father's property =\", self.property)\n",
    "    ##\n",
    "##\n",
    "\n",
    "class Son(Father):\n",
    "    pass\n",
    "##"
   ]
  },
  {
   "cell_type": "code",
   "execution_count": null,
   "id": "f09a34de",
   "metadata": {},
   "outputs": [],
   "source": [
    "s = Son()"
   ]
  },
  {
   "cell_type": "code",
   "execution_count": null,
   "id": "69652db3",
   "metadata": {},
   "outputs": [],
   "source": [
    "s.display_property()"
   ]
  },
  {
   "cell_type": "code",
   "execution_count": null,
   "id": "09201ba2",
   "metadata": {},
   "outputs": [],
   "source": []
  },
  {
   "cell_type": "code",
   "execution_count": null,
   "id": "c25eb00c",
   "metadata": {},
   "outputs": [],
   "source": [
    "class Father:\n",
    "    def __init__(self):\n",
    "        self.property = 5000\n",
    "    ##\n",
    "    def display_property(self):\n",
    "        print(\"Father's property =\", self.property)\n",
    "    ##\n",
    "    def display_fathers_property(self):\n",
    "        print(\"Father's property =\", self.property)\n",
    "    ##\n",
    "##\n",
    "\n",
    "class Son(Father):\n",
    "    def __init__(self):\n",
    "        self.property = 10000\n",
    "    ##\n",
    "    def display_property(self):\n",
    "        print(\"Son's property =\", self.property)\n",
    "    ##\n",
    "##"
   ]
  },
  {
   "cell_type": "code",
   "execution_count": null,
   "id": "798fdc12",
   "metadata": {},
   "outputs": [],
   "source": [
    "s = Son()\n",
    "s.display_property()\n",
    "s.display_fathers_property()"
   ]
  },
  {
   "cell_type": "code",
   "execution_count": null,
   "id": "ce9fe312",
   "metadata": {},
   "outputs": [],
   "source": [
    "f = Father()\n",
    "f.display_property()"
   ]
  },
  {
   "cell_type": "code",
   "execution_count": null,
   "id": "2562675d",
   "metadata": {},
   "outputs": [],
   "source": []
  },
  {
   "cell_type": "code",
   "execution_count": null,
   "id": "557801c4",
   "metadata": {},
   "outputs": [],
   "source": [
    "class Father:\n",
    "    def __init__(self,property):\n",
    "        self.property = property\n",
    "    ##\n",
    "    def display_property(self):\n",
    "        print(\"Father's property =\", self.property)\n",
    "    ##\n",
    "##\n",
    "\n",
    "class Son(Father):\n",
    "    def __init__(self,propertyF,propertyS):\n",
    "        super().__init__(propertyF)  # invoke parent class constructor in child class\n",
    "        self.propertyS = propertyS\n",
    "        #self.property = propertyF\n",
    "    ##\n",
    "    def display_property(self): ## method overriding\n",
    "        print(\"Son's property =\", self.propertyS)\n",
    "        print(\"Father's property =\", self.property)\n",
    "    ##\n",
    "##"
   ]
  },
  {
   "cell_type": "code",
   "execution_count": null,
   "id": "d5a7aea2",
   "metadata": {},
   "outputs": [],
   "source": [
    "s = Son(5000,10000)"
   ]
  },
  {
   "cell_type": "code",
   "execution_count": null,
   "id": "89d20854",
   "metadata": {},
   "outputs": [],
   "source": [
    "s.display_property()"
   ]
  },
  {
   "cell_type": "code",
   "execution_count": null,
   "id": "42c088e3",
   "metadata": {},
   "outputs": [],
   "source": []
  },
  {
   "cell_type": "markdown",
   "id": "bab4eab8",
   "metadata": {},
   "source": [
    "#### abstract class or interface?"
   ]
  },
  {
   "cell_type": "code",
   "execution_count": 22,
   "id": "7e824cf4",
   "metadata": {},
   "outputs": [],
   "source": [
    "from abc import ABC, abstractmethod\n",
    "\n",
    "class Animal(ABC):\n",
    "    @abstractmethod\n",
    "    def move(self):\n",
    "        #print('Animal moves')\n",
    "        pass\n",
    "    ##\n",
    "##\n",
    "class Cat(Animal):\n",
    "    def move(self):\n",
    "        #super().move()\n",
    "        print('Cat moves')\n",
    "    ##\n",
    "##"
   ]
  },
  {
   "cell_type": "code",
   "execution_count": 18,
   "id": "9aba1b1e",
   "metadata": {},
   "outputs": [
    {
     "ename": "TypeError",
     "evalue": "Can't instantiate abstract class Animal with abstract method move",
     "output_type": "error",
     "traceback": [
      "\u001b[1;31m---------------------------------------------------------------------------\u001b[0m",
      "\u001b[1;31mTypeError\u001b[0m                                 Traceback (most recent call last)",
      "Cell \u001b[1;32mIn[18], line 1\u001b[0m\n\u001b[1;32m----> 1\u001b[0m a \u001b[38;5;241m=\u001b[39m \u001b[43mAnimal\u001b[49m\u001b[43m(\u001b[49m\u001b[43m)\u001b[49m\n",
      "\u001b[1;31mTypeError\u001b[0m: Can't instantiate abstract class Animal with abstract method move"
     ]
    }
   ],
   "source": [
    "a = Animal()"
   ]
  },
  {
   "cell_type": "code",
   "execution_count": 19,
   "id": "5db4ca3b",
   "metadata": {},
   "outputs": [
    {
     "name": "stdout",
     "output_type": "stream",
     "text": [
      "Cat moves\n"
     ]
    }
   ],
   "source": [
    "c = Cat()\n",
    "c.move()"
   ]
  },
  {
   "cell_type": "code",
   "execution_count": 20,
   "id": "365ec628",
   "metadata": {},
   "outputs": [],
   "source": [
    "class Dog(Animal):\n",
    "    def move(self):\n",
    "        print('Dog moves.')\n",
    "    ##\n",
    "##"
   ]
  },
  {
   "cell_type": "code",
   "execution_count": 21,
   "id": "8277bafe",
   "metadata": {},
   "outputs": [
    {
     "name": "stdout",
     "output_type": "stream",
     "text": [
      "Dog moves.\n"
     ]
    }
   ],
   "source": [
    "d = Dog()\n",
    "d.move()"
   ]
  },
  {
   "cell_type": "code",
   "execution_count": null,
   "id": "daf4685c",
   "metadata": {},
   "outputs": [],
   "source": []
  },
  {
   "cell_type": "code",
   "execution_count": null,
   "id": "f52b2aaa",
   "metadata": {},
   "outputs": [],
   "source": []
  },
  {
   "cell_type": "markdown",
   "id": "satisfied-extent",
   "metadata": {},
   "source": [
    "### Exercises\n",
    "<ol>\n",
    "    <li> Create a class Employee with data members: empno, name, gender, birthdate, da_rate, hra_rate, basic_salary, and member functions: constructor, set(), calc_age(), calc_da(), calc_hra(), calc_netsalary(). Assume suitable rates for da and hra.\n",
    "    <li> Create a class String with a data member str, and member functions: strlen(), toUpperCase(), toReverseCase(), reverseString(), split(), and suppressAccessiveSpaces(). The split() should accept one character parameter and split the string accordingly. \n",
    "    <li> Write a Python program to create a class that represents a shape. Include methods to calculate its area and perimeter. Implement subclasses for different shapes like circle, triangle, and square.\n",
    "    <li> Write a Python program to create a class representing a stack data structure. Include methods for pushing, peeping and popping elements.\n",
    "    <li> Write a Python program to create a class representing a queue data structure. Include methods for enqueueing and dequeueing elements.\n",
    "    <li> Write a Python program to create a class representing a BankAccount. Include methods for managing customer accounts and transactions.\n",
    "    <li> Create a base class called “Animal” and its two subclasses, “Dog” and “Cat.” Add necesary attributes, constructors and methods specific to each subclass to demonstrate inheritance.\n",
    "    <li> Create three classes, \"Person\", \"Employee\" and \"Student\". Use multiple inheritance to create a class “PersonInfo” that inherits from all three classes \"Person\", \"Employee\" and \"Student\". Add necessary attributes, constructors and  methods specific to each class to demonstrate multiple inheritance.\n",
    "    <li> Using suitable examples, demonstrate purpose and usage of abstractmethod and ABC.\n",
    "</ol>"
   ]
  },
  {
   "cell_type": "markdown",
   "id": "1a9ac965",
   "metadata": {},
   "source": [
    "example of the split() function:<br>\n",
    "msg = String('Self dependence#is the#best friend.')<br>\n",
    "msg.split('#')<br>\n",
    "\n",
    "<br>\n",
    "o/p:('Self dependence','is the','best friend.')"
   ]
  },
  {
   "cell_type": "code",
   "execution_count": null,
   "id": "ef915713",
   "metadata": {},
   "outputs": [],
   "source": []
  }
 ],
 "metadata": {
  "kernelspec": {
   "display_name": "Python 3 (ipykernel)",
   "language": "python",
   "name": "python3"
  },
  "language_info": {
   "codemirror_mode": {
    "name": "ipython",
    "version": 3
   },
   "file_extension": ".py",
   "mimetype": "text/x-python",
   "name": "python",
   "nbconvert_exporter": "python",
   "pygments_lexer": "ipython3",
   "version": "3.10.9"
  }
 },
 "nbformat": 4,
 "nbformat_minor": 5
}
