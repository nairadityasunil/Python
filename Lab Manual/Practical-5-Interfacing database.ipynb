{
 "cells": [
  {
   "cell_type": "markdown",
   "id": "removable-packet",
   "metadata": {},
   "source": [
    "#### How to create connection to the database?"
   ]
  },
  {
   "cell_type": "code",
   "execution_count": null,
   "id": "regulation-plenty",
   "metadata": {},
   "outputs": [],
   "source": [
    "import mysql.connector\n",
    "\n",
    "con = mysql.connector.connect(host=\"localhost\", user=\"root\", password=\"mysql\")\n",
    "\n",
    "print(\"Connection = \",con)\n",
    "\n",
    "con.close()"
   ]
  },
  {
   "cell_type": "code",
   "execution_count": null,
   "id": "nearby-detection",
   "metadata": {},
   "outputs": [],
   "source": [
    "from getpass import getpass\n",
    "from mysql.connector import connect, Error\n",
    "\n",
    "try:\n",
    "   con = connect(host=\"localhost\",\n",
    "                 user=input(\"Enter username:\"),\n",
    "                 password=getpass(\"Enter password:\"))\n",
    "except Error as e:\n",
    "    print(e)\n",
    "else:\n",
    "    print(\"connection con =\",con)\n",
    "    con.close()"
   ]
  },
  {
   "cell_type": "markdown",
   "id": "labeled-clock",
   "metadata": {},
   "source": [
    "#### How to create a database?"
   ]
  },
  {
   "cell_type": "code",
   "execution_count": null,
   "id": "israeli-softball",
   "metadata": {},
   "outputs": [],
   "source": [
    "from mysql.connector import connect, Error\n",
    "\n",
    "try:\n",
    "    con = connect(host=\"localhost\",user=\"root\",password=\"mysql\")\n",
    "    \n",
    "    cursor = con.cursor()\n",
    "    \n",
    "    cursor.execute(\"CREATE DATABASE db3\")\n",
    "    print(\"cursor = \",cursor)\n",
    "    \n",
    "    cursor.close()\n",
    "    \n",
    "    con.close()\n",
    "except Error as e:\n",
    "    print(e)"
   ]
  },
  {
   "cell_type": "markdown",
   "id": "sunset-province",
   "metadata": {},
   "source": [
    "#### How to connect to specific a database?"
   ]
  },
  {
   "cell_type": "code",
   "execution_count": null,
   "id": "occupational-press",
   "metadata": {},
   "outputs": [],
   "source": [
    "from mysql.connector import connect, Error\n",
    "\n",
    "try:\n",
    "    con = connect(host=\"localhost\",user=\"root\",password=\"mysql\",database='db1')\n",
    "    cursor = con.cursor()\n",
    "    \n",
    "    cursor.execute(\"SHOW TABLES\")\n",
    "    \n",
    "    for db in cursor:\n",
    "        print(db)\n",
    "        \n",
    "    cursor.close()\n",
    "    \n",
    "    con.close()\n",
    "except Error as e:\n",
    "    print(e)"
   ]
  },
  {
   "cell_type": "markdown",
   "id": "received-reasoning",
   "metadata": {},
   "source": [
    "#### How to create a table?"
   ]
  },
  {
   "cell_type": "code",
   "execution_count": null,
   "id": "standard-report",
   "metadata": {},
   "outputs": [],
   "source": [
    "from mysql.connector import connect, Error\n",
    "\n",
    "try:\n",
    "    con = connect(host=\"localhost\",user=\"root\",password=\"mysql\",database='db3')\n",
    "    cursor = con.cursor()\n",
    "    \n",
    "    sql = \"CREATE TABLE customers(name VARCHAR(20), address VARCHAR(255))\"\n",
    "    cursor.execute(sql)\n",
    "    print(\"Table customers created. cursor =\",cursor)\n",
    "    \n",
    "    cursor.close()\n",
    "    con.close()\n",
    "except Error as e:\n",
    "    print(e)"
   ]
  },
  {
   "cell_type": "code",
   "execution_count": null,
   "id": "egyptian-equality",
   "metadata": {},
   "outputs": [],
   "source": [
    "from mysql.connector import connect, Error\n",
    "try:\n",
    "    con = connect(host=\"localhost\",user=\"root\",password=\"mysql\",database='db3')\n",
    "    cursor = con.cursor()\n",
    "    \n",
    "    # Drop table if it already exist using execute() method.\n",
    "    cursor.execute(\"DROP TABLE IF EXISTS EMPLOYEE\")\n",
    "\n",
    "    # Create table as per requirement\n",
    "    sql = \"\"\"CREATE TABLE EMPLOYEE (\n",
    "         FIRST_NAME CHAR(20) NOT NULL,\n",
    "         LAST_NAME CHAR(20),\n",
    "         AGE INT,  \n",
    "         SEX CHAR(1),\n",
    "         INCOME FLOAT )\"\"\"\n",
    "    cursor.execute(sql)\n",
    "    print(\"Table EMPLOYEE created.\")\n",
    "    \n",
    "    cursor.close()\n",
    "    con.close()\n",
    "except Error as e:\n",
    "    print(e)"
   ]
  },
  {
   "cell_type": "markdown",
   "id": "acute-shift",
   "metadata": {},
   "source": [
    "#### primary key\n",
    "\n",
    "If the table already exists, use the ALTER TABLE keyword:"
   ]
  },
  {
   "cell_type": "code",
   "execution_count": null,
   "id": "affected-editor",
   "metadata": {},
   "outputs": [],
   "source": [
    "try:\n",
    "    con = connect(host=\"localhost\",user=\"root\",password=\"mysql\",database='db3')\n",
    "    cursor = con.cursor()\n",
    "    \n",
    "    cursor.execute(\"ALTER TABLE customers ADD COLUMN id INT AUTO_INCREMENT PRIMARY KEY\")\n",
    "    print(\"Table altered.\")\n",
    "    \n",
    "    cursor.close()\n",
    "    con.close()\n",
    "except Error as e:\n",
    "    print(e)"
   ]
  },
  {
   "cell_type": "markdown",
   "id": "foreign-television",
   "metadata": {},
   "source": [
    "#### List tables for a given database"
   ]
  },
  {
   "cell_type": "code",
   "execution_count": null,
   "id": "statistical-migration",
   "metadata": {},
   "outputs": [],
   "source": [
    "from mysql.connector import connect, Error\n",
    "\n",
    "try:\n",
    "    con = connect(host=\"localhost\",user=\"root\",password=\"mysql\",db='db3')\n",
    "    cursor = con.cursor()\n",
    "    \n",
    "    cursor.execute(\"SHOW TABLES\")\n",
    "\n",
    "    for tbl in cursor:\n",
    "        print(tbl)\n",
    "        \n",
    "    cursor.close()\n",
    "    con.close()\n",
    "except Error as e:\n",
    "    print(e)"
   ]
  },
  {
   "cell_type": "markdown",
   "id": "separate-browse",
   "metadata": {},
   "source": [
    "#### How to insert one row into table?"
   ]
  },
  {
   "cell_type": "code",
   "execution_count": null,
   "id": "minus-trainer",
   "metadata": {},
   "outputs": [],
   "source": [
    "try:\n",
    "    con = connect(host=\"localhost\",user=\"root\",password=\"mysql\",database='db3')\n",
    "    cursor = con.cursor()\n",
    "    \n",
    "    sql = \"INSERT INTO customers (name, address) VALUES ('McGrath', 'Australia')\"\n",
    "    \n",
    "    cursor.execute(sql)\n",
    "    con.commit()\n",
    "    \n",
    "    print(\"Row inserted into the table customers.\")\n",
    "    \n",
    "    cursor.close()\n",
    "    con.close()\n",
    "except Error as e:\n",
    "    print(e)"
   ]
  },
  {
   "cell_type": "code",
   "execution_count": null,
   "id": "centered-wings",
   "metadata": {},
   "outputs": [],
   "source": [
    "try:\n",
    "    con = connect(host=\"localhost\",user=\"root\",password=\"mysql\",database='db3')\n",
    "    cursor = con.cursor()\n",
    "    \n",
    "    sql = \"INSERT INTO customers (name, address) VALUES (%s, %s)\"\n",
    "    val = (\"Steve Waugh\", \"Australia\")\n",
    "    \n",
    "    cursor.execute(sql, val)\n",
    "    con.commit()\n",
    "    \n",
    "    print(\"Row inserted into the table customers.\")\n",
    "    \n",
    "    cursor.close()\n",
    "    con.close()\n",
    "except Error as e:\n",
    "    print(e)"
   ]
  },
  {
   "cell_type": "markdown",
   "id": "korean-client",
   "metadata": {},
   "source": [
    "#### How to insert multiple rows into table?"
   ]
  },
  {
   "cell_type": "code",
   "execution_count": null,
   "id": "unnecessary-painting",
   "metadata": {},
   "outputs": [],
   "source": [
    "try:\n",
    "    con = connect(host=\"localhost\",user=\"root\",password=\"mysql\",database='db3')\n",
    "    cursor = con.cursor()\n",
    "    \n",
    "    sql = \"INSERT INTO customers (name, address) VALUES (%s, %s)\"\n",
    "    val = [\n",
    "  ('Mohandas', 'porbandar'),\n",
    "  ('Vallabh', 'karamsad'),\n",
    "  ('Ramkrishna', 'bellur'),\n",
    "  ('Samarth', 'maharashtra'),\n",
    "  ('pratap', 'udepur'),\n",
    "]\n",
    "    \n",
    "    cursor.executemany(sql, val) ## notice executemany()\n",
    "    con.commit()\n",
    "    \n",
    "    print(cursor.rowcount,\"rows inserted.\")\n",
    "    \n",
    "    cursor.close()\n",
    "    con.close()\n",
    "except Error as e:\n",
    "    print(e)"
   ]
  },
  {
   "cell_type": "markdown",
   "id": "spectacular-teaching",
   "metadata": {},
   "source": [
    "#### How to get rowid of last inserted row?"
   ]
  },
  {
   "cell_type": "code",
   "execution_count": null,
   "id": "universal-stack",
   "metadata": {},
   "outputs": [],
   "source": [
    "try:\n",
    "    con = connect(host=\"localhost\",user=\"root\",password=\"mysql\",database='db3')\n",
    "    cursor = con.cursor()\n",
    "    \n",
    "    sql = \"INSERT INTO customers (name, address) VALUES (%s, %s)\"\n",
    "    val = (\"Bhagatsingh\", \"punjab\")\n",
    "    \n",
    "    cursor.execute(sql, val)\n",
    "    con.commit()\n",
    "    \n",
    "    print(cursor.rowcount,\"rows inserted. Rowid=\",cursor.lastrowid)\n",
    "    \n",
    "    cursor.close()\n",
    "    con.close()\n",
    "except Error as e:\n",
    "    print(e)"
   ]
  },
  {
   "cell_type": "markdown",
   "id": "likely-maximum",
   "metadata": {},
   "source": [
    "#### commit and rollback"
   ]
  },
  {
   "cell_type": "code",
   "execution_count": null,
   "id": "instant-territory",
   "metadata": {},
   "outputs": [],
   "source": [
    "try:\n",
    "    con = connect(host=\"localhost\",user=\"root\",password=\"mysql\",database='db3')\n",
    "    cursor = con.cursor()\n",
    "    \n",
    "    sql = \"\"\"INSERT INTO EMPLOYEE(FIRST_NAME,LAST_NAME, AGE, SEX, INCOME)\n",
    "         VALUES ('akshaykumar', 'bhatia', 47, 'M', 20000000)\"\"\"\n",
    "    \n",
    "    cursor.execute(sql)\n",
    "    con.commit()\n",
    "    \n",
    "    print(cursor.rowcount,\"rows inserted. Rowid=\",cursor.lastrowid)\n",
    "    \n",
    "    cursor.close()\n",
    "    con.close()\n",
    "except:\n",
    "    con.rollback() ## notice rollback. you may experiment inserting duplicate value of already existing p.key.\n",
    "    print(e)"
   ]
  },
  {
   "cell_type": "markdown",
   "id": "toxic-small",
   "metadata": {},
   "source": [
    "#### Fetching all rows from table"
   ]
  },
  {
   "cell_type": "code",
   "execution_count": null,
   "id": "harmful-brother",
   "metadata": {},
   "outputs": [],
   "source": [
    "try:\n",
    "    con = connect(host=\"localhost\",user=\"root\",password=\"mysql\",database='db3')\n",
    "    cursor = con.cursor()\n",
    "    \n",
    "    sql = \"select * from customers\"\n",
    "        \n",
    "    cursor.execute(sql)\n",
    "    \n",
    "    # fetching all records from the 'cursor' object\n",
    "    records = cursor.fetchall()\n",
    "    \n",
    "    ## Showing the data\n",
    "    for record in records:\n",
    "        print(record)\n",
    "    \n",
    "    cursor.close()\n",
    "    con.close()\n",
    "except Error as e:\n",
    "    print(e)"
   ]
  },
  {
   "cell_type": "markdown",
   "id": "documented-helen",
   "metadata": {},
   "source": [
    "#### Getting Some Columns"
   ]
  },
  {
   "cell_type": "code",
   "execution_count": null,
   "id": "spatial-benjamin",
   "metadata": {},
   "outputs": [],
   "source": [
    "try:\n",
    "    con = connect(host=\"localhost\",user=\"root\",password=\"mysql\",database='db3')\n",
    "    cursor = con.cursor()\n",
    "    \n",
    "    sql = \"select name from customers\"\n",
    "        \n",
    "    cursor.execute(sql)\n",
    "    \n",
    "    # fetching all records from the 'cursor' object\n",
    "    records = cursor.fetchall()\n",
    "    \n",
    "    ## Showing the data\n",
    "    for record in records:\n",
    "        print(record)\n",
    "    \n",
    "    cursor.close()\n",
    "    con.close()\n",
    "except Error as e:\n",
    "    print(e)"
   ]
  },
  {
   "cell_type": "markdown",
   "id": "authorized-minneapolis",
   "metadata": {},
   "source": [
    "#### Fetching certain rows only"
   ]
  },
  {
   "cell_type": "code",
   "execution_count": null,
   "id": "cardiovascular-turkish",
   "metadata": {},
   "outputs": [],
   "source": [
    "try:\n",
    "    con = connect(host=\"localhost\",user=\"root\",password=\"mysql\",database='db3')\n",
    "    cursor = con.cursor()\n",
    "    \n",
    "    sql = \"select * from customers where id=7\"\n",
    "        \n",
    "    cursor.execute(sql)\n",
    "    \n",
    "    # fetching all records from the 'cursor' object\n",
    "    records = cursor.fetchall()\n",
    "    \n",
    "    ## Showing the data\n",
    "    for record in records:\n",
    "        print(record)\n",
    "    \n",
    "    cursor.close()\n",
    "    con.close()\n",
    "except Error as e:\n",
    "    print(e)"
   ]
  },
  {
   "cell_type": "code",
   "execution_count": null,
   "id": "framed-storm",
   "metadata": {},
   "outputs": [],
   "source": [
    "try:\n",
    "    con = connect(host=\"localhost\",user=\"root\",password=\"mysql\",database='db3')\n",
    "    cursor = con.cursor()\n",
    "    \n",
    "    sql = \"select * from customers where name = 'pratap'\"\n",
    "    val = (1)\n",
    "    \n",
    "    cursor.execute(sql)\n",
    "    records = cursor.fetchall()\n",
    "    \n",
    "    ## Showing the data\n",
    "    for record in records:\n",
    "        print(record)\n",
    "    \n",
    "    cursor.close()\n",
    "    con.close()\n",
    "except Error as e:\n",
    "    print(e)"
   ]
  },
  {
   "cell_type": "code",
   "execution_count": null,
   "id": "physical-delivery",
   "metadata": {},
   "outputs": [],
   "source": [
    "try:\n",
    "    con = connect(host=\"localhost\",user=\"root\",password=\"mysql\",database='db3')\n",
    "    cursor = con.cursor()\n",
    "    \n",
    "    sql = \"select * from customers\"\n",
    "    \n",
    "    cursor.execute(sql)\n",
    "    \n",
    "    records = cursor.fetchall()\n",
    "    \n",
    "    ## Showing the data\n",
    "    for record in records:\n",
    "        print(record[0],record[1],record[2])\n",
    "    print('\\n\\n')\n",
    "    for record in records:\n",
    "        print(record[2],':',record[0],'-',record[1])\n",
    "        \n",
    "    cursor.close()\n",
    "    con.close()\n",
    "except Error as e:\n",
    "    print(e)"
   ]
  },
  {
   "cell_type": "markdown",
   "id": "consolidated-artist",
   "metadata": {},
   "source": [
    "#### Passing parameters in the select query"
   ]
  },
  {
   "cell_type": "code",
   "execution_count": null,
   "id": "flying-webster",
   "metadata": {},
   "outputs": [],
   "source": [
    "try:\n",
    "    con = connect(host=\"localhost\",user=\"root\",password=\"mysql\",database='db3')\n",
    "    cursor = con.cursor()\n",
    "    \n",
    "    sql = \"select * from customers where name=%s\"\n",
    "    val=('Samarth',)\n",
    "    \n",
    "    cursor.execute(sql,val)\n",
    "    \n",
    "    records = cursor.fetchall()\n",
    "    \n",
    "    ## Showing the data\n",
    "    for record in records:\n",
    "        print(record[0],record[1],record[2])\n",
    "    print('\\n\\n')\n",
    "    for record in records:\n",
    "        print(record[2],':',record[0],'-',record[1])\n",
    "        \n",
    "    cursor.close()\n",
    "    con.close()\n",
    "except Error as e:\n",
    "    print(e)"
   ]
  },
  {
   "cell_type": "markdown",
   "id": "welsh-perry",
   "metadata": {},
   "source": [
    "#### Access fetched rows using column names"
   ]
  },
  {
   "cell_type": "code",
   "execution_count": null,
   "id": "crude-organ",
   "metadata": {},
   "outputs": [],
   "source": [
    "try:\n",
    "    con = connect(host=\"localhost\",user=\"root\",password=\"mysql\",database='db3')\n",
    "    cursor = con.cursor(dictionary=True) # notice parameter\n",
    "    \n",
    "    sql = \"select * from customers\"\n",
    "    \n",
    "    cursor.execute(sql)\n",
    "    \n",
    "    records = cursor.fetchall()\n",
    "    \n",
    "    ## Showing the data\n",
    "    for record in records:\n",
    "        print(record['id'],':',record['name'],'-',record['address']) # notice indices\n",
    "        \n",
    "    cursor.close()\n",
    "    con.close()\n",
    "except Error as e:\n",
    "    print(e)"
   ]
  },
  {
   "cell_type": "markdown",
   "id": "spread-veteran",
   "metadata": {},
   "source": [
    "#### Delete certain row"
   ]
  },
  {
   "cell_type": "code",
   "execution_count": null,
   "id": "continuing-construction",
   "metadata": {},
   "outputs": [],
   "source": [
    "from mysql.connector import connect, Error\n",
    "\n",
    "try:\n",
    "    con = connect(host=\"localhost\",user=\"root\",password=\"mysql\",database='db3')\n",
    "    cursor = con.cursor()\n",
    "    \n",
    "    sql = \"delete from customers where name=%s\"\n",
    "    val=('Mohandas',)\n",
    "    \n",
    "    cursor.execute(sql,val)\n",
    "    con.commit()\n",
    "    print(\"row deleted.\")\n",
    "    #cursor.close()\n",
    "    \n",
    "    \n",
    "    sql = \"select * from customers\"\n",
    "    cursor.execute(sql)\n",
    "    records = cursor.fetchall()\n",
    "    \n",
    "    ## Showing the data\n",
    "    for record in records:\n",
    "        print(record[2],':',record[0],'-',record[1])\n",
    "        \n",
    "    cursor.close()\n",
    "    con.close()\n",
    "except Error as e:\n",
    "    print(e)"
   ]
  },
  {
   "cell_type": "markdown",
   "id": "becoming-state",
   "metadata": {},
   "source": [
    "#### Update row"
   ]
  },
  {
   "cell_type": "code",
   "execution_count": null,
   "id": "undefined-yeast",
   "metadata": {},
   "outputs": [],
   "source": [
    "from mysql.connector import connect, Error\n",
    "\n",
    "try:\n",
    "    con = connect(host=\"localhost\",user=\"root\",password=\"mysql\",database='db3')\n",
    "    cursor = con.cursor()\n",
    "    \n",
    "    sql = \"update customers set name=%s where name=%s\"\n",
    "    newname='Sardar Vallabhbhai'\n",
    "    oldname='Vallabh'\n",
    "    val=(newname,oldname)\n",
    "    \n",
    "    cursor.execute(sql,val)\n",
    "    con.commit()\n",
    "    print(\"row updated.\")\n",
    "    #cursor.close()\n",
    "    \n",
    "    \n",
    "    sql = \"select * from customers\"\n",
    "    cursor.execute(sql)\n",
    "    records = cursor.fetchall()\n",
    "    \n",
    "    ## Showing the data\n",
    "    for record in records:\n",
    "        print(record[2],':',record[0],'-',record[1])\n",
    "        \n",
    "    cursor.close()\n",
    "    con.close()\n",
    "except Error as e:\n",
    "    print(e)"
   ]
  },
  {
   "cell_type": "markdown",
   "id": "descending-shoot",
   "metadata": {},
   "source": [
    "### Exercises\n",
    "<ol>\n",
    "    <li> Create connection to the mysql on localhost. Install necessary driver/package if required.\n",
    "    <li> List all the databases available in your mysql server.\n",
    "    <li> Create a database dbStudent. Connect to it.\n",
    "    <li> Create a table tblStudent with columns of suitable type: rollno, name, birthdate, gender, cmarks, cppmarks, pythonmarks,totalmarks, percentage and grade.\n",
    "    <li> Insert at least 10 rows (only rollno, name, birthdate, gender, cmarks, cppmarks, pythonmarks) into tblStudent. Use different ways for the same (as shown in various examples shown above).\n",
    "    <li> Print all rows (only rollno, name, birthdate, gender, cmarks, cppmarks, pythonmarks) on screen (as shown in various examples shown above).\n",
    "    <li> Compute & update totalmarks for all rows in table.\n",
    "    <li> Compute & update percentage for all rows in table.\n",
    "    <li> Compute & update grade for all rows in table.\n",
    "    <li> Print all rows with only columns: rollno, name, percentage and grade.\n",
    "    <li> Print merit list.\n",
    "    <li> Print first two toppers.\n",
    "    <li> Print girl students who have failed in at least two subjects.\n",
    "    <li> Print youngest female topper.\n",
    "    <li> Print oldest male topper.\n",
    "    <li> Change birth month to January who were born in December.\n",
    "    <li> Change birthdate of topper student as 01-01-2000.\n",
    "    <li> List all students whose birthdate is yet to come during 2024.\n",
    "    <li> Create a stored procedure for inserting row in table. Show usage of it.\n",
    "    <li> Create a stored procedure for fetching only female student rows.  Show usage of it.\n",
    "    <li> Create a stored procedure for fetching student records having grade as a specific parameter given by user. Show usage of it.\n",
    "</ol>"
   ]
  },
  {
   "cell_type": "code",
   "execution_count": null,
   "id": "underlying-personal",
   "metadata": {},
   "outputs": [],
   "source": []
  }
 ],
 "metadata": {
  "kernelspec": {
   "display_name": "Python 3 (ipykernel)",
   "language": "python",
   "name": "python3"
  },
  "language_info": {
   "codemirror_mode": {
    "name": "ipython",
    "version": 3
   },
   "file_extension": ".py",
   "mimetype": "text/x-python",
   "name": "python",
   "nbconvert_exporter": "python",
   "pygments_lexer": "ipython3",
   "version": "3.10.9"
  }
 },
 "nbformat": 4,
 "nbformat_minor": 5
}
