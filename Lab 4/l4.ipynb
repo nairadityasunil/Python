{
 "cells": [
  {
   "cell_type": "code",
   "execution_count": 6,
   "metadata": {},
   "outputs": [
    {
     "name": "stdout",
     "output_type": "stream",
     "text": [
      "-9999\n"
     ]
    }
   ],
   "source": [
    "# Create a function calcFactorial with one integer parameter. If the parameter is integer, the function should return factorial of the parameter, else return -9999. Show usage of the function.\n",
    "\n",
    "def calcFactorial(x):\n",
    "    if (isinstance(x,int)):\n",
    "        fact = 1\n",
    "        for i in range(1,x+1):\n",
    "            fact = fact * i\n",
    "            \n",
    "        return fact\n",
    "    else:\n",
    "        return -9999\n",
    "    \n",
    "\n",
    "print(calcFactorial(5.5)) "
   ]
  },
  {
   "cell_type": "code",
   "execution_count": 15,
   "metadata": {},
   "outputs": [
    {
     "name": "stdout",
     "output_type": "stream",
     "text": [
      "True\n"
     ]
    }
   ],
   "source": [
    "#  Create a function checkPrime with one integer parameter. If the parameter is not integer, the function should return \"BAD NUMBER ERROR\" message; Otherwise, The function should return True if the parameter is a prime number, else the function should return False. Show usage of the function.\n",
    "\n",
    "def checkPrime(x):\n",
    "    if(not isinstance(x,int)):\n",
    "        msg = \"BAD NUMBER ERROR\"\n",
    "        return msg\n",
    "    else:\n",
    "        for i in range(2, x):\n",
    "            if x%i==0:\n",
    "                return False\n",
    "        else:\n",
    "            return True\n",
    "\n",
    "print(checkPrime(47))"
   ]
  },
  {
   "cell_type": "code",
   "execution_count": 19,
   "metadata": {},
   "outputs": [
    {
     "name": "stdout",
     "output_type": "stream",
     "text": [
      "[2, 3, 5, 7, 11, 13, 17, 19, 23, 29]\n"
     ]
    }
   ],
   "source": [
    "# Create a function firstNPrimeNumbers with one integer parameter say N. The function should return first N prime numbers.\n",
    "def firstNPrimeNumbers(x):\n",
    "    count = 0\n",
    "    i = 2\n",
    "    prime_lst = []\n",
    "    while (count<x):\n",
    "        if checkPrime(i):\n",
    "            count += 1\n",
    "            prime_lst.append(i)\n",
    "        i += 1\n",
    "    return prime_lst\n",
    "\n",
    "print(firstNPrimeNumbers(10))        \n"
   ]
  },
  {
   "cell_type": "code",
   "execution_count": 20,
   "metadata": {},
   "outputs": [
    {
     "name": "stdout",
     "output_type": "stream",
     "text": [
      "Vowels in hello world ->  {'a': 0, 'e': 1, 'i': 0, 'o': 2, 'u': 0}\n"
     ]
    }
   ],
   "source": [
    "#  Create a function countVowelsFrequencies with one string parameter and return frequency of individual vowel present in the parameter. Case insensitive.\n",
    "\n",
    "def countVowelFrequencies(x):\n",
    "    v ='aeiou'\n",
    "    vowels = {\n",
    "        'a' : 0,\n",
    "        'e' : 0,\n",
    "        'i' : 0,\n",
    "        'o' : 0,\n",
    "        'u' : 0\n",
    "    }\n",
    "    \n",
    "    for i in x:\n",
    "        if i.lower() in v:\n",
    "            vowels[i] += 1\n",
    "        \n",
    "    return vowels\n",
    "\n",
    "print(\"Vowels in hello world -> \",countVowelFrequencies(\"hello world\"))"
   ]
  },
  {
   "cell_type": "code",
   "execution_count": 21,
   "metadata": {},
   "outputs": [
    {
     "name": "stdout",
     "output_type": "stream",
     "text": [
      "Factorials of [1,2,3,4,5,6] ->  {1: 1, 2: 2, 3: 6, 4: 24, 5: 120, 6: 720}\n"
     ]
    }
   ],
   "source": [
    "# Create a function factorials which accepts a list of integers. The function should compute factorial for all list elements (use calcFactorial() from above sr# 1), and return all factorial values.\n",
    "\n",
    "def factorials(x):\n",
    "    fact_dict = {}\n",
    "    for i in x:\n",
    "        fact_dict[i] = calcFactorial(i)\n",
    "    \n",
    "    return fact_dict\n",
    "\n",
    "n_lst = [1,2,3,4,5,6]\n",
    "print(\"Factorials of [1,2,3,4,5,6] -> \",factorials(n_lst))"
   ]
  },
  {
   "cell_type": "code",
   "execution_count": 5,
   "metadata": {},
   "outputs": [
    {
     "name": "stdout",
     "output_type": "stream",
     "text": [
      "HELLO WORLD\n"
     ]
    }
   ],
   "source": [
    "# Create a function toUpper() to convert a string parameter to upper case and return the same. Do not use inbuilt function.\n",
    "\n",
    "def toUpper(x):\n",
    "    new_str = \"\"\n",
    "    for i in x:\n",
    "        if i != \" \":\n",
    "            ch = ord(i)-32\n",
    "            new_str = new_str + chr(ch)\n",
    "        else:\n",
    "            new_str += \" \"\n",
    "        \n",
    "    return new_str\n",
    "\n",
    "print(toUpper(\"hello world\"))"
   ]
  },
  {
   "cell_type": "code",
   "execution_count": null,
   "metadata": {},
   "outputs": [],
   "source": []
  }
 ],
 "metadata": {
  "kernelspec": {
   "display_name": "Python 3",
   "language": "python",
   "name": "python3"
  },
  "language_info": {
   "codemirror_mode": {
    "name": "ipython",
    "version": 3
   },
   "file_extension": ".py",
   "mimetype": "text/x-python",
   "name": "python",
   "nbconvert_exporter": "python",
   "pygments_lexer": "ipython3",
   "version": "3.12.0"
  }
 },
 "nbformat": 4,
 "nbformat_minor": 2
}
