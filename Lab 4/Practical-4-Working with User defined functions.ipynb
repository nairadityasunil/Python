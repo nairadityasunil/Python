{
 "cells": [
  {
   "cell_type": "markdown",
   "id": "regional-brighton",
   "metadata": {},
   "source": [
    "Create & use simple function"
   ]
  },
  {
   "cell_type": "code",
   "execution_count": null,
   "id": "latest-proposition",
   "metadata": {},
   "outputs": [],
   "source": [
    "# Function to print message\n",
    "def greet():\n",
    "    print(\"Namaskar\")"
   ]
  },
  {
   "cell_type": "code",
   "execution_count": null,
   "id": "turkish-major",
   "metadata": {},
   "outputs": [],
   "source": [
    "print(\"Now calling greet()\")\n",
    "greet()\n",
    "print(\"Came back from greet().\")"
   ]
  },
  {
   "cell_type": "code",
   "execution_count": null,
   "id": "eligible-climate",
   "metadata": {},
   "outputs": [],
   "source": []
  },
  {
   "cell_type": "code",
   "execution_count": null,
   "id": "peaceful-delaware",
   "metadata": {},
   "outputs": [],
   "source": [
    "# Function body without statements. But notice the pass statement"
   ]
  },
  {
   "cell_type": "code",
   "execution_count": null,
   "id": "collective-brooks",
   "metadata": {},
   "outputs": [],
   "source": [
    "def dummy():\n",
    "    pass"
   ]
  },
  {
   "cell_type": "code",
   "execution_count": null,
   "id": "exact-going",
   "metadata": {},
   "outputs": [],
   "source": [
    "print(\"Now calling dummy()\")\n",
    "dummy()\n",
    "print(\"Came back from dummy().\")"
   ]
  },
  {
   "cell_type": "code",
   "execution_count": null,
   "id": "noble-involvement",
   "metadata": {},
   "outputs": [],
   "source": []
  },
  {
   "cell_type": "code",
   "execution_count": null,
   "id": "brief-washington",
   "metadata": {},
   "outputs": [],
   "source": [
    "# Function body without statements. But notice absence of the pass statement\n",
    "def dummy():\n",
    "    #pass"
   ]
  },
  {
   "cell_type": "code",
   "execution_count": null,
   "id": "included-alpha",
   "metadata": {},
   "outputs": [],
   "source": [
    "print(\"Now calling dummy()\")\n",
    "dummy()\n",
    "print(\"Came back from dummy().\")"
   ]
  },
  {
   "cell_type": "markdown",
   "id": "constitutional-volunteer",
   "metadata": {},
   "source": [
    "Passing parameters"
   ]
  },
  {
   "cell_type": "code",
   "execution_count": null,
   "id": "quality-legislation",
   "metadata": {},
   "outputs": [],
   "source": [
    "def sum(num1,num2):\n",
    "    ans = num1 + num2\n",
    "    print(num1, \" + \", num2, \" = \", ans)"
   ]
  },
  {
   "cell_type": "code",
   "execution_count": null,
   "id": "bored-merit",
   "metadata": {},
   "outputs": [],
   "source": [
    "x = 7\n",
    "y = 9\n",
    "\n",
    "sum(x,y)"
   ]
  },
  {
   "cell_type": "code",
   "execution_count": null,
   "id": "qualified-dating",
   "metadata": {},
   "outputs": [],
   "source": []
  },
  {
   "cell_type": "code",
   "execution_count": null,
   "id": "crucial-relative",
   "metadata": {},
   "outputs": [],
   "source": [
    "def add(a,b):\n",
    "    ans = a + b\n",
    "    print(ans)"
   ]
  },
  {
   "cell_type": "code",
   "execution_count": null,
   "id": "hungarian-commission",
   "metadata": {},
   "outputs": [],
   "source": [
    "add(7,9)"
   ]
  },
  {
   "cell_type": "code",
   "execution_count": null,
   "id": "faced-vegetation",
   "metadata": {},
   "outputs": [],
   "source": [
    "add('Wake','up')"
   ]
  },
  {
   "cell_type": "code",
   "execution_count": null,
   "id": "congressional-lexington",
   "metadata": {},
   "outputs": [],
   "source": [
    "add(7.0,9.0)"
   ]
  },
  {
   "cell_type": "code",
   "execution_count": null,
   "id": "indoor-exception",
   "metadata": {},
   "outputs": [],
   "source": [
    "add(7,9.9)"
   ]
  },
  {
   "cell_type": "code",
   "execution_count": null,
   "id": "imported-planner",
   "metadata": {},
   "outputs": [],
   "source": [
    "add(7,True)"
   ]
  },
  {
   "cell_type": "code",
   "execution_count": null,
   "id": "forbidden-third",
   "metadata": {},
   "outputs": [],
   "source": [
    "add(7,False)"
   ]
  },
  {
   "cell_type": "code",
   "execution_count": null,
   "id": "rental-civilization",
   "metadata": {},
   "outputs": [],
   "source": [
    "print(sum(x,y))"
   ]
  },
  {
   "cell_type": "markdown",
   "id": "descending-beatles",
   "metadata": {},
   "source": [
    "Returning results from a function"
   ]
  },
  {
   "cell_type": "code",
   "execution_count": null,
   "id": "bearing-microphone",
   "metadata": {},
   "outputs": [],
   "source": [
    "def add(a,b):\n",
    "    ans = a + b\n",
    "    return ans"
   ]
  },
  {
   "cell_type": "code",
   "execution_count": null,
   "id": "successful-matrix",
   "metadata": {},
   "outputs": [],
   "source": [
    "print(add(7,9))"
   ]
  },
  {
   "cell_type": "code",
   "execution_count": null,
   "id": "extraordinary-jamaica",
   "metadata": {},
   "outputs": [],
   "source": [
    "z = add(7,9)\n",
    "z"
   ]
  },
  {
   "cell_type": "code",
   "execution_count": null,
   "id": "rental-sudan",
   "metadata": {},
   "outputs": [],
   "source": [
    "add(7,add(7,9))"
   ]
  },
  {
   "cell_type": "code",
   "execution_count": null,
   "id": "preceding-momentum",
   "metadata": {},
   "outputs": [],
   "source": [
    "add(7,\"erroneous\")"
   ]
  },
  {
   "cell_type": "code",
   "execution_count": null,
   "id": "personalized-princeton",
   "metadata": {},
   "outputs": [],
   "source": [
    "# simple function to check odd - even \n",
    "def odd_even(n):\n",
    "    if n%2 == 0:\n",
    "        return 'even'\n",
    "    else:\n",
    "        return 'odd'"
   ]
  },
  {
   "cell_type": "code",
   "execution_count": null,
   "id": "correct-pierre",
   "metadata": {},
   "outputs": [],
   "source": [
    "num = int(input(\"Enter an integer:\"))\n",
    "print(num, \" is \", odd_even(num))"
   ]
  },
  {
   "cell_type": "code",
   "execution_count": null,
   "id": "sustainable-workshop",
   "metadata": {},
   "outputs": [],
   "source": []
  },
  {
   "cell_type": "markdown",
   "id": "defined-watershed",
   "metadata": {},
   "source": [
    "Return multiple values from function"
   ]
  },
  {
   "cell_type": "code",
   "execution_count": null,
   "id": "equal-corruption",
   "metadata": {},
   "outputs": [],
   "source": [
    "def add_subtract(a,b):\n",
    "    sum = a + b\n",
    "    sub = a - b\n",
    "    return sum, sub"
   ]
  },
  {
   "cell_type": "code",
   "execution_count": null,
   "id": "matched-algeria",
   "metadata": {},
   "outputs": [],
   "source": [
    "x, y = 7,9\n",
    "print(type(x), type(y))\n",
    "\n",
    "ans = add_subtract(x,y)\n",
    "print(type(ans))\n",
    "print(ans)\n",
    "print(\"addition = \",ans[0])\n",
    "print(\"addition = \",ans[1])"
   ]
  },
  {
   "cell_type": "code",
   "execution_count": null,
   "id": "operational-hometown",
   "metadata": {},
   "outputs": [],
   "source": [
    "x, y = 7,9\n",
    "print(add_subtract(x,y))"
   ]
  },
  {
   "cell_type": "code",
   "execution_count": null,
   "id": "nutritional-atlanta",
   "metadata": {},
   "outputs": [],
   "source": [
    "x, y = 7,9\n",
    "addition, subtraction = add_subtract(x,y)\n",
    "print(addition)\n",
    "print(subtraction)"
   ]
  },
  {
   "cell_type": "markdown",
   "id": "postal-complexity",
   "metadata": {},
   "source": [
    "### Exercises\n",
    "<ol>\n",
    "    <li> Create a function calcFactorial with one integer parameter. If the parameter is integer, the function should return factorial of the parameter, else return -9999. Show usage of the function.\n",
    "    <li> Create a function checkPrime with one integer parameter. If the parameter is not integer, the function should return \"BAD NUMBER ERROR\" message; <br>\n",
    "        Otherwise, The function should return True if the parameter is a prime number, else the function should return False. Show usage of the function.\n",
    "    <li> Create a function firstNPrimeNumbers with one integer parameter say N. The function should return first N prime numbers.\n",
    "    <li> Create a function countVowelsFrequencies with one string parameter and return frequency of individual vowel present in the parameter. Case insensitive.\n",
    "    <li> Create a function factorials which accepts a list of integers. The function should compute factorial for all list elements (use calcFactorial() from above sr# 1), and return all factorial values.\n",
    "    <li> Create two functions calcSimpleInterest() and calcCompoundInterest() to compute simple interest and compound interest.Both functions should accept necessary parameters.\n",
    "    <li> Create a function toUpper() to convert a string parameter to upper case and return the same. Do not use inbuilt function.\n",
    "    <li> Create a function removeWhiteSpaceFromString() to remove white space from a string parameter.\n",
    "    <li> Create a function checkSquare(), which accepts lengths of four sides of a rectangle; and checks if rectangle is square or not.\n",
    "    <li> Create following string manipulation functions without using inbuilt functions:\n",
    "        <ul>\n",
    "            <li> toLowerCase(str): returns the parameter str in lower case\n",
    "            <li> toUpperCase(str): returns the parameter str in upper case\n",
    "            <li> toInitCap(str): returns the parameter str in sentence case\n",
    "            <li> strlen(str): returns length of the parameter str\n",
    "            <li> reverse(str): returns reverse of the paraeter str\n",
    "            <li> countVowelsFrequencies(str): returns frequency of each vowel in the parameter str\n",
    "            <li> search(str,substr): return index of first occurence of substr in str\n",
    "            <li> searchMultiple(str,substr): return indices of each occurence of substr in str\n",
    "            <li> remove(str,substr): remove first occurence of substr from str; return the resultant object\n",
    "            <li> removeMultiple(str,substr): remove all occurences of substr from str; return the resultant object\n",
    "        </ul>\n",
    "    <li> Create the following functionality:\n",
    "        <ul>\n",
    "            <li> Create a function dynamicFilter() such that\n",
    "            <li> It should be capable to accept an unknown number of parameters\n",
    "            <li> It should return the parameters in various groups based on the type of parameters; \n",
    "e.g.: integers, floats, strings = dynamicFilter(-1,\"create\",7,\"work\",-9.7,9,...)  \n",
    "        </ul>\n",
    "    <li> Develop appropriate functions to implement following functionality without using inbuilt functions:\n",
    "        <ul> \n",
    "            <li> reverseInt(int): returns reverse of the parameter int\n",
    "            <li> upperCeil(int): return upper ceiling int of the parameter int\n",
    "            <li> bottomCeil(int): return bottom ceiling int of the parameter int\n",
    "            <li> round(int,n): return the parameter int rounded to n positions\n",
    "        </ul>\n",
    "    <li> Implement following two computations for a mathematician using lambda functions: \n",
    " (i)  compute product of four given integer parameters \n",
    " (ii) find the lowest of five given float parameters\n",
    " (iii) compute power of first integer parameter raised to second integer parameter \n",
    " (iv) determine whether a numeric parameter is odd or even.\n",
    " (v) extract hours, minutes and seconds from current timestamp.\n",
    "    <li> How to use map(), reduce() and lambda? Give at least four examples of each.\n",
    "\n",
    "</ol>"
   ]
  },
  {
   "cell_type": "code",
   "execution_count": null,
   "id": "pressed-compression",
   "metadata": {},
   "outputs": [],
   "source": []
  }
 ],
 "metadata": {
  "kernelspec": {
   "display_name": "Python 3 (ipykernel)",
   "language": "python",
   "name": "python3"
  },
  "language_info": {
   "codemirror_mode": {
    "name": "ipython",
    "version": 3
   },
   "file_extension": ".py",
   "mimetype": "text/x-python",
   "name": "python",
   "nbconvert_exporter": "python",
   "pygments_lexer": "ipython3",
   "version": "3.10.9"
  }
 },
 "nbformat": 4,
 "nbformat_minor": 5
}
